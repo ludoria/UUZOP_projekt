{
 "cells": [
  {
   "cell_type": "markdown",
   "metadata": {},
   "source": [
    "# Uvod u znanost o podacima - projekt\n",
    "\n",
    "### Early Predictor for Student Success Based on Behavioural and Demographical Indicators\n",
    "\n",
    "Literatura (članak): https://durham-repository.worktribe.com/OutputFile/1140733\n",
    "\n",
    "Doria Herceg, 0036534753\n",
    " "
   ]
  },
  {
   "cell_type": "markdown",
   "metadata": {},
   "source": [
    "### UVOD\n",
    "Tema istraživanja je osmisliti model koji predviđa hoće li se neki student prijevremeno ispisati s fakulteta koji nastavu održava na daljinu, na temelju informacija o studentu. Podaci su prikupljani na najvećem sveučilištu koje prakticira nastavu na daljinu u Ujedinjenom Kraljevstvu s preko 250 000 upisanih studenata."
   ]
  },
  {
   "cell_type": "markdown",
   "metadata": {},
   "source": [
    "### Priprema i vizualizacija podataka\n",
    "Napomena: podatke je potrebno preuzeti s poveznice https://analyse.kmi.open.ac.uk/open_dataset i sve ih zajedno spremiti u folder \"raw data\" kako bi se mogli ispravno učitati u bilježnicu"
   ]
  },
  {
   "cell_type": "code",
   "execution_count": 2,
   "metadata": {},
   "outputs": [],
   "source": [
    "import numpy as np\n",
    "import pandas as pd\n",
    "import matplotlib.pyplot as plt"
   ]
  },
  {
   "cell_type": "code",
   "execution_count": 3,
   "metadata": {},
   "outputs": [],
   "source": [
    "import warnings\n",
    "warnings.filterwarnings('ignore')"
   ]
  },
  {
   "cell_type": "code",
   "execution_count": 4,
   "metadata": {},
   "outputs": [],
   "source": [
    "#učitavanje setova podataka\n",
    "assessments = pd.read_csv(\"raw data/assessments.csv\", sep=\",\")\n",
    "courses = pd.read_csv(\"raw data/courses.csv\", sep = \",\")\n",
    "student_assessment = pd.read_csv(\"raw data/studentAssessment.csv\", sep = \",\")\n",
    "student_info = pd.read_csv(\"raw data/studentInfo.csv\")\n",
    "student_registration = pd.read_csv(\"raw data/studentRegistration.csv\", sep = \",\")\n",
    "student_vle = pd.read_csv(\"raw data/studentVle.csv\", sep = \",\")\n",
    "vle = pd.read_csv(\"raw data/vle.csv\", sep = \",\")"
   ]
  },
  {
   "cell_type": "code",
   "execution_count": 5,
   "metadata": {},
   "outputs": [
    {
     "data": {
      "text/html": [
       "<div>\n",
       "<style scoped>\n",
       "    .dataframe tbody tr th:only-of-type {\n",
       "        vertical-align: middle;\n",
       "    }\n",
       "\n",
       "    .dataframe tbody tr th {\n",
       "        vertical-align: top;\n",
       "    }\n",
       "\n",
       "    .dataframe thead th {\n",
       "        text-align: right;\n",
       "    }\n",
       "</style>\n",
       "<table border=\"1\" class=\"dataframe\">\n",
       "  <thead>\n",
       "    <tr style=\"text-align: right;\">\n",
       "      <th></th>\n",
       "      <th>code_module</th>\n",
       "      <th>code_presentation</th>\n",
       "      <th>id_student</th>\n",
       "      <th>id_site</th>\n",
       "      <th>date</th>\n",
       "      <th>sum_click</th>\n",
       "    </tr>\n",
       "  </thead>\n",
       "  <tbody>\n",
       "    <tr>\n",
       "      <th>0</th>\n",
       "      <td>AAA</td>\n",
       "      <td>2013J</td>\n",
       "      <td>28400</td>\n",
       "      <td>546652</td>\n",
       "      <td>-10</td>\n",
       "      <td>4</td>\n",
       "    </tr>\n",
       "    <tr>\n",
       "      <th>1</th>\n",
       "      <td>AAA</td>\n",
       "      <td>2013J</td>\n",
       "      <td>28400</td>\n",
       "      <td>546652</td>\n",
       "      <td>-10</td>\n",
       "      <td>1</td>\n",
       "    </tr>\n",
       "    <tr>\n",
       "      <th>2</th>\n",
       "      <td>AAA</td>\n",
       "      <td>2013J</td>\n",
       "      <td>28400</td>\n",
       "      <td>546652</td>\n",
       "      <td>-10</td>\n",
       "      <td>1</td>\n",
       "    </tr>\n",
       "    <tr>\n",
       "      <th>3</th>\n",
       "      <td>AAA</td>\n",
       "      <td>2013J</td>\n",
       "      <td>28400</td>\n",
       "      <td>546614</td>\n",
       "      <td>-10</td>\n",
       "      <td>11</td>\n",
       "    </tr>\n",
       "    <tr>\n",
       "      <th>4</th>\n",
       "      <td>AAA</td>\n",
       "      <td>2013J</td>\n",
       "      <td>28400</td>\n",
       "      <td>546714</td>\n",
       "      <td>-10</td>\n",
       "      <td>1</td>\n",
       "    </tr>\n",
       "  </tbody>\n",
       "</table>\n",
       "</div>"
      ],
      "text/plain": [
       "  code_module code_presentation  id_student  id_site  date  sum_click\n",
       "0         AAA             2013J       28400   546652   -10          4\n",
       "1         AAA             2013J       28400   546652   -10          1\n",
       "2         AAA             2013J       28400   546652   -10          1\n",
       "3         AAA             2013J       28400   546614   -10         11\n",
       "4         AAA             2013J       28400   546714   -10          1"
      ]
     },
     "execution_count": 5,
     "metadata": {},
     "output_type": "execute_result"
    }
   ],
   "source": [
    "student_vle.head()"
   ]
  },
  {
   "cell_type": "markdown",
   "metadata": {},
   "source": [
    "### Tablica 'courses'\n",
    "U ovoj tablici opisani su dostupni predmeti na fakultetu.\n",
    "\n",
    "Značajke koje opisuju predmete su: <br>\n",
    " a) 'code_module' - šifra predmeta <br>\n",
    " b) 'code_presentation' - šifra koja označava razdoblje izvođenja predmeta, na početku je godina izvođenja, a na kraju je oznaka B za ljetni semestar i J za zimski <br>\n",
    " c) 'module_presentation_length' - duljina izvođenja predmeta u danima <br>"
   ]
  },
  {
   "cell_type": "code",
   "execution_count": 6,
   "metadata": {},
   "outputs": [
    {
     "name": "stdout",
     "output_type": "stream",
     "text": [
      "(22, 3)\n"
     ]
    },
    {
     "data": {
      "text/html": [
       "<div>\n",
       "<style scoped>\n",
       "    .dataframe tbody tr th:only-of-type {\n",
       "        vertical-align: middle;\n",
       "    }\n",
       "\n",
       "    .dataframe tbody tr th {\n",
       "        vertical-align: top;\n",
       "    }\n",
       "\n",
       "    .dataframe thead th {\n",
       "        text-align: right;\n",
       "    }\n",
       "</style>\n",
       "<table border=\"1\" class=\"dataframe\">\n",
       "  <thead>\n",
       "    <tr style=\"text-align: right;\">\n",
       "      <th></th>\n",
       "      <th>code_module</th>\n",
       "      <th>code_presentation</th>\n",
       "      <th>module_presentation_length</th>\n",
       "    </tr>\n",
       "  </thead>\n",
       "  <tbody>\n",
       "    <tr>\n",
       "      <th>0</th>\n",
       "      <td>AAA</td>\n",
       "      <td>2013J</td>\n",
       "      <td>268</td>\n",
       "    </tr>\n",
       "    <tr>\n",
       "      <th>1</th>\n",
       "      <td>AAA</td>\n",
       "      <td>2014J</td>\n",
       "      <td>269</td>\n",
       "    </tr>\n",
       "    <tr>\n",
       "      <th>2</th>\n",
       "      <td>BBB</td>\n",
       "      <td>2013J</td>\n",
       "      <td>268</td>\n",
       "    </tr>\n",
       "    <tr>\n",
       "      <th>3</th>\n",
       "      <td>BBB</td>\n",
       "      <td>2014J</td>\n",
       "      <td>262</td>\n",
       "    </tr>\n",
       "    <tr>\n",
       "      <th>4</th>\n",
       "      <td>BBB</td>\n",
       "      <td>2013B</td>\n",
       "      <td>240</td>\n",
       "    </tr>\n",
       "  </tbody>\n",
       "</table>\n",
       "</div>"
      ],
      "text/plain": [
       "  code_module code_presentation  module_presentation_length\n",
       "0         AAA             2013J                         268\n",
       "1         AAA             2014J                         269\n",
       "2         BBB             2013J                         268\n",
       "3         BBB             2014J                         262\n",
       "4         BBB             2013B                         240"
      ]
     },
     "execution_count": 6,
     "metadata": {},
     "output_type": "execute_result"
    }
   ],
   "source": [
    "print(courses.shape)\n",
    "courses.head()"
   ]
  },
  {
   "cell_type": "markdown",
   "metadata": {},
   "source": [
    "Tablica 'courses' ima 22 predmeta i svaki je opisan s 3 značajke navedene iznad."
   ]
  },
  {
   "cell_type": "code",
   "execution_count": 7,
   "metadata": {},
   "outputs": [
    {
     "data": {
      "text/plain": [
       "code_module                   7\n",
       "code_presentation             4\n",
       "module_presentation_length    7\n",
       "dtype: int64"
      ]
     },
     "execution_count": 7,
     "metadata": {},
     "output_type": "execute_result"
    }
   ],
   "source": [
    "# pregled koliko ima različitih vrijednosti svake značajke\n",
    "courses.nunique()"
   ]
  },
  {
   "cell_type": "code",
   "execution_count": 8,
   "metadata": {},
   "outputs": [
    {
     "data": {
      "text/html": [
       "<div>\n",
       "<style scoped>\n",
       "    .dataframe tbody tr th:only-of-type {\n",
       "        vertical-align: middle;\n",
       "    }\n",
       "\n",
       "    .dataframe tbody tr th {\n",
       "        vertical-align: top;\n",
       "    }\n",
       "\n",
       "    .dataframe thead th {\n",
       "        text-align: right;\n",
       "    }\n",
       "</style>\n",
       "<table border=\"1\" class=\"dataframe\">\n",
       "  <thead>\n",
       "    <tr style=\"text-align: right;\">\n",
       "      <th></th>\n",
       "      <th>code_module</th>\n",
       "      <th>code_presentation</th>\n",
       "      <th>module_presentation_length</th>\n",
       "    </tr>\n",
       "  </thead>\n",
       "  <tbody>\n",
       "    <tr>\n",
       "      <th>0</th>\n",
       "      <td>AAA</td>\n",
       "      <td>2013J</td>\n",
       "      <td>268</td>\n",
       "    </tr>\n",
       "    <tr>\n",
       "      <th>1</th>\n",
       "      <td>AAA</td>\n",
       "      <td>2014J</td>\n",
       "      <td>269</td>\n",
       "    </tr>\n",
       "    <tr>\n",
       "      <th>2</th>\n",
       "      <td>BBB</td>\n",
       "      <td>2013J</td>\n",
       "      <td>268</td>\n",
       "    </tr>\n",
       "    <tr>\n",
       "      <th>3</th>\n",
       "      <td>BBB</td>\n",
       "      <td>2014J</td>\n",
       "      <td>262</td>\n",
       "    </tr>\n",
       "    <tr>\n",
       "      <th>4</th>\n",
       "      <td>BBB</td>\n",
       "      <td>2013B</td>\n",
       "      <td>240</td>\n",
       "    </tr>\n",
       "    <tr>\n",
       "      <th>5</th>\n",
       "      <td>BBB</td>\n",
       "      <td>2014B</td>\n",
       "      <td>234</td>\n",
       "    </tr>\n",
       "    <tr>\n",
       "      <th>6</th>\n",
       "      <td>CCC</td>\n",
       "      <td>2014J</td>\n",
       "      <td>269</td>\n",
       "    </tr>\n",
       "    <tr>\n",
       "      <th>7</th>\n",
       "      <td>CCC</td>\n",
       "      <td>2014B</td>\n",
       "      <td>241</td>\n",
       "    </tr>\n",
       "    <tr>\n",
       "      <th>8</th>\n",
       "      <td>DDD</td>\n",
       "      <td>2013J</td>\n",
       "      <td>261</td>\n",
       "    </tr>\n",
       "    <tr>\n",
       "      <th>9</th>\n",
       "      <td>DDD</td>\n",
       "      <td>2014J</td>\n",
       "      <td>262</td>\n",
       "    </tr>\n",
       "    <tr>\n",
       "      <th>10</th>\n",
       "      <td>DDD</td>\n",
       "      <td>2013B</td>\n",
       "      <td>240</td>\n",
       "    </tr>\n",
       "    <tr>\n",
       "      <th>11</th>\n",
       "      <td>DDD</td>\n",
       "      <td>2014B</td>\n",
       "      <td>241</td>\n",
       "    </tr>\n",
       "    <tr>\n",
       "      <th>12</th>\n",
       "      <td>EEE</td>\n",
       "      <td>2013J</td>\n",
       "      <td>268</td>\n",
       "    </tr>\n",
       "    <tr>\n",
       "      <th>13</th>\n",
       "      <td>EEE</td>\n",
       "      <td>2014J</td>\n",
       "      <td>269</td>\n",
       "    </tr>\n",
       "    <tr>\n",
       "      <th>14</th>\n",
       "      <td>EEE</td>\n",
       "      <td>2014B</td>\n",
       "      <td>241</td>\n",
       "    </tr>\n",
       "    <tr>\n",
       "      <th>15</th>\n",
       "      <td>FFF</td>\n",
       "      <td>2013J</td>\n",
       "      <td>268</td>\n",
       "    </tr>\n",
       "    <tr>\n",
       "      <th>16</th>\n",
       "      <td>FFF</td>\n",
       "      <td>2014J</td>\n",
       "      <td>269</td>\n",
       "    </tr>\n",
       "    <tr>\n",
       "      <th>17</th>\n",
       "      <td>FFF</td>\n",
       "      <td>2013B</td>\n",
       "      <td>240</td>\n",
       "    </tr>\n",
       "    <tr>\n",
       "      <th>18</th>\n",
       "      <td>FFF</td>\n",
       "      <td>2014B</td>\n",
       "      <td>241</td>\n",
       "    </tr>\n",
       "    <tr>\n",
       "      <th>19</th>\n",
       "      <td>GGG</td>\n",
       "      <td>2013J</td>\n",
       "      <td>261</td>\n",
       "    </tr>\n",
       "    <tr>\n",
       "      <th>20</th>\n",
       "      <td>GGG</td>\n",
       "      <td>2014J</td>\n",
       "      <td>269</td>\n",
       "    </tr>\n",
       "    <tr>\n",
       "      <th>21</th>\n",
       "      <td>GGG</td>\n",
       "      <td>2014B</td>\n",
       "      <td>241</td>\n",
       "    </tr>\n",
       "  </tbody>\n",
       "</table>\n",
       "</div>"
      ],
      "text/plain": [
       "   code_module code_presentation  module_presentation_length\n",
       "0          AAA             2013J                         268\n",
       "1          AAA             2014J                         269\n",
       "2          BBB             2013J                         268\n",
       "3          BBB             2014J                         262\n",
       "4          BBB             2013B                         240\n",
       "5          BBB             2014B                         234\n",
       "6          CCC             2014J                         269\n",
       "7          CCC             2014B                         241\n",
       "8          DDD             2013J                         261\n",
       "9          DDD             2014J                         262\n",
       "10         DDD             2013B                         240\n",
       "11         DDD             2014B                         241\n",
       "12         EEE             2013J                         268\n",
       "13         EEE             2014J                         269\n",
       "14         EEE             2014B                         241\n",
       "15         FFF             2013J                         268\n",
       "16         FFF             2014J                         269\n",
       "17         FFF             2013B                         240\n",
       "18         FFF             2014B                         241\n",
       "19         GGG             2013J                         261\n",
       "20         GGG             2014J                         269\n",
       "21         GGG             2014B                         241"
      ]
     },
     "execution_count": 8,
     "metadata": {},
     "output_type": "execute_result"
    }
   ],
   "source": [
    "courses"
   ]
  },
  {
   "cell_type": "markdown",
   "metadata": {},
   "source": [
    "Kako tablica nije prevelika možemo ju pregledati cijelu i vidjeti da nema nedostajućih vrijednosti."
   ]
  },
  {
   "cell_type": "code",
   "execution_count": 9,
   "metadata": {},
   "outputs": [
    {
     "data": {
      "text/html": [
       "<div>\n",
       "<style scoped>\n",
       "    .dataframe tbody tr th:only-of-type {\n",
       "        vertical-align: middle;\n",
       "    }\n",
       "\n",
       "    .dataframe tbody tr th {\n",
       "        vertical-align: top;\n",
       "    }\n",
       "\n",
       "    .dataframe thead th {\n",
       "        text-align: right;\n",
       "    }\n",
       "</style>\n",
       "<table border=\"1\" class=\"dataframe\">\n",
       "  <thead>\n",
       "    <tr style=\"text-align: right;\">\n",
       "      <th></th>\n",
       "      <th>module_presentation_length</th>\n",
       "    </tr>\n",
       "  </thead>\n",
       "  <tbody>\n",
       "    <tr>\n",
       "      <th>count</th>\n",
       "      <td>22.000000</td>\n",
       "    </tr>\n",
       "    <tr>\n",
       "      <th>mean</th>\n",
       "      <td>255.545455</td>\n",
       "    </tr>\n",
       "    <tr>\n",
       "      <th>std</th>\n",
       "      <td>13.654677</td>\n",
       "    </tr>\n",
       "    <tr>\n",
       "      <th>min</th>\n",
       "      <td>234.000000</td>\n",
       "    </tr>\n",
       "    <tr>\n",
       "      <th>25%</th>\n",
       "      <td>241.000000</td>\n",
       "    </tr>\n",
       "    <tr>\n",
       "      <th>50%</th>\n",
       "      <td>261.500000</td>\n",
       "    </tr>\n",
       "    <tr>\n",
       "      <th>75%</th>\n",
       "      <td>268.000000</td>\n",
       "    </tr>\n",
       "    <tr>\n",
       "      <th>max</th>\n",
       "      <td>269.000000</td>\n",
       "    </tr>\n",
       "  </tbody>\n",
       "</table>\n",
       "</div>"
      ],
      "text/plain": [
       "       module_presentation_length\n",
       "count                   22.000000\n",
       "mean                   255.545455\n",
       "std                     13.654677\n",
       "min                    234.000000\n",
       "25%                    241.000000\n",
       "50%                    261.500000\n",
       "75%                    268.000000\n",
       "max                    269.000000"
      ]
     },
     "execution_count": 9,
     "metadata": {},
     "output_type": "execute_result"
    }
   ],
   "source": [
    "courses.describe()"
   ]
  },
  {
   "cell_type": "markdown",
   "metadata": {},
   "source": [
    "'Module_presentation_length' je jedina značajka u ovoj tablici koja ima numeričke vrijednosti. Iz gornje deskriptivne statistike vidljivo je da predavanja traju prosječno 255 dana s odstupanjima od +/- 2 tjedna."
   ]
  },
  {
   "cell_type": "code",
   "execution_count": 10,
   "metadata": {},
   "outputs": [
    {
     "data": {
      "image/png": "[encoded data removed]",
      "text/plain": [
       "<Figure size 640x480 with 1 Axes>"
      ]
     },
     "metadata": {},
     "output_type": "display_data"
    }
   ],
   "source": [
    "plt.scatter(courses.code_module, courses.code_presentation)\n",
    "plt.title(\"Graf 1.1: Courses\")\n",
    "plt.xlabel(\"Module code\")\n",
    "plt.ylabel(\"Presentation code\")\n",
    "plt.show()"
   ]
  },
  {
   "cell_type": "markdown",
   "metadata": {},
   "source": [
    "Iz gornjeg grafa 1.1 možemo vidjeti koji se predmeti održavaju koje godine i u kojem semestru. Naprimjer, predmeti 'BBB', 'DDD' i 'FFF' se održavaju obje godine i u ljetnom i u zimskom, dok se 'AAA' održavao samo u zimskom. Za predmete 'CCC', 'EEE' i 'GGG' možemo pretpostaviti da nedostaje informacija o održavanju predmeta u nekim semestrima pa po potrebi možemo npr. za ljetni semestar 2013 pretpostaviti da se održavao isto kao i ljetni semestar 2014."
   ]
  },
  {
   "cell_type": "code",
   "execution_count": 11,
   "metadata": {},
   "outputs": [
    {
     "data": {
      "image/png": "[encoded data removed]",
      "text/plain": [
       "<Figure size 640x480 with 1 Axes>"
      ]
     },
     "metadata": {},
     "output_type": "display_data"
    }
   ],
   "source": [
    "plt.scatter(courses.code_presentation, courses.module_presentation_length)\n",
    "plt.title(\"Graf 1.2: Courses\")\n",
    "plt.xlabel(\"Presentation code\")\n",
    "plt.ylabel(\"Length of module presentation in days\")\n",
    "plt.show()"
   ]
  },
  {
   "cell_type": "markdown",
   "metadata": {},
   "source": [
    "Iz grafa 1.2 možemo vidjeti da predmeti ljetnog semestra traju 20ak dana kraće od predmeta zimskog semestra. Također, možemo vidjeti i da gore izračunata srednja vrijednost nije prava vrijednost, već imamo dvije skupine predmeta koje imaju veću razliku u trajanju."
   ]
  },
  {
   "cell_type": "markdown",
   "metadata": {},
   "source": [
    "#### 2. Tablica 'Assessments'\n",
    "Ovo je tablica koja opisuje zaduženja koja studenti imaju na svakom predmetu.\n",
    "\n",
    "Ta zaduženja opisuju sljedeće značajke:\n",
    "\n",
    "a) **'code_module'** -> šifra predmeta <br>\n",
    "b) **'code_presentation'** -> šifra koja označava razdoblje izvođenja predmeta, na početku je godina izvođenja, a na kraju je oznaka B za ljetni semestar i J za zimski <br>\n",
    "c) **'id_assessment'** -> identifikator zaduženja <br>\n",
    "d) **'assessment_type'** -> tip zaduženja, moguće vrijednosti su TMA (Tutor Marked Assessment), CMA (Computer Marked Assessment) and Exam (Final exam) <br>\n",
    "e) **'date'** -> broj dana od početka održavanja predmeta do roka za predaju zaduženja <br>\n",
    "f) **'weight'** -> postotak koliko bodova nosi određen zadatak u odnosu na ukupan broj bodova na predmetu, izraženo u postotcima <br>"
   ]
  },
  {
   "cell_type": "code",
   "execution_count": 12,
   "metadata": {},
   "outputs": [
    {
     "name": "stdout",
     "output_type": "stream",
     "text": [
      "(206, 6)\n"
     ]
    },
    {
     "data": {
      "text/html": [
       "<div>\n",
       "<style scoped>\n",
       "    .dataframe tbody tr th:only-of-type {\n",
       "        vertical-align: middle;\n",
       "    }\n",
       "\n",
       "    .dataframe tbody tr th {\n",
       "        vertical-align: top;\n",
       "    }\n",
       "\n",
       "    .dataframe thead th {\n",
       "        text-align: right;\n",
       "    }\n",
       "</style>\n",
       "<table border=\"1\" class=\"dataframe\">\n",
       "  <thead>\n",
       "    <tr style=\"text-align: right;\">\n",
       "      <th></th>\n",
       "      <th>code_module</th>\n",
       "      <th>code_presentation</th>\n",
       "      <th>id_assessment</th>\n",
       "      <th>assessment_type</th>\n",
       "      <th>date</th>\n",
       "      <th>weight</th>\n",
       "    </tr>\n",
       "  </thead>\n",
       "  <tbody>\n",
       "    <tr>\n",
       "      <th>0</th>\n",
       "      <td>AAA</td>\n",
       "      <td>2013J</td>\n",
       "      <td>1752</td>\n",
       "      <td>TMA</td>\n",
       "      <td>19.0</td>\n",
       "      <td>10.0</td>\n",
       "    </tr>\n",
       "    <tr>\n",
       "      <th>1</th>\n",
       "      <td>AAA</td>\n",
       "      <td>2013J</td>\n",
       "      <td>1753</td>\n",
       "      <td>TMA</td>\n",
       "      <td>54.0</td>\n",
       "      <td>20.0</td>\n",
       "    </tr>\n",
       "    <tr>\n",
       "      <th>2</th>\n",
       "      <td>AAA</td>\n",
       "      <td>2013J</td>\n",
       "      <td>1754</td>\n",
       "      <td>TMA</td>\n",
       "      <td>117.0</td>\n",
       "      <td>20.0</td>\n",
       "    </tr>\n",
       "    <tr>\n",
       "      <th>3</th>\n",
       "      <td>AAA</td>\n",
       "      <td>2013J</td>\n",
       "      <td>1755</td>\n",
       "      <td>TMA</td>\n",
       "      <td>166.0</td>\n",
       "      <td>20.0</td>\n",
       "    </tr>\n",
       "    <tr>\n",
       "      <th>4</th>\n",
       "      <td>AAA</td>\n",
       "      <td>2013J</td>\n",
       "      <td>1756</td>\n",
       "      <td>TMA</td>\n",
       "      <td>215.0</td>\n",
       "      <td>30.0</td>\n",
       "    </tr>\n",
       "  </tbody>\n",
       "</table>\n",
       "</div>"
      ],
      "text/plain": [
       "  code_module code_presentation  id_assessment assessment_type   date  weight\n",
       "0         AAA             2013J           1752             TMA   19.0    10.0\n",
       "1         AAA             2013J           1753             TMA   54.0    20.0\n",
       "2         AAA             2013J           1754             TMA  117.0    20.0\n",
       "3         AAA             2013J           1755             TMA  166.0    20.0\n",
       "4         AAA             2013J           1756             TMA  215.0    30.0"
      ]
     },
     "execution_count": 12,
     "metadata": {},
     "output_type": "execute_result"
    }
   ],
   "source": [
    "print(assessments.shape)\n",
    "assessments.head()"
   ]
  },
  {
   "cell_type": "markdown",
   "metadata": {},
   "source": [
    "Tablica assessments ima 206 primjeraka zaduženja i 6 značajki koje opisuju ta zaduženja. Potrebno je provjeriti postoje li monotone značajke. Tu je već moguće posumnjati na značajku 'id_assessment' jer su identifikatori čest primjer monotonih značajki kako je njihova jedina svrha prebrojavanje primjera i povezivanje tablica pa nam u analizi nije potreban."
   ]
  },
  {
   "cell_type": "code",
   "execution_count": 13,
   "metadata": {},
   "outputs": [
    {
     "data": {
      "text/plain": [
       "code_module            7\n",
       "code_presentation      4\n",
       "id_assessment        206\n",
       "assessment_type        3\n",
       "date                  74\n",
       "weight                24\n",
       "dtype: int64"
      ]
     },
     "execution_count": 13,
     "metadata": {},
     "output_type": "execute_result"
    }
   ],
   "source": [
    "assessments.nunique()"
   ]
  },
  {
   "cell_type": "markdown",
   "metadata": {},
   "source": [
    "Vidi se da je jednak broj različitih vrijednosti značajke 'id_assessments' kao i broj primjera pa je tu značajku moguće izbaciti."
   ]
  },
  {
   "cell_type": "code",
   "execution_count": 14,
   "metadata": {},
   "outputs": [
    {
     "data": {
      "text/html": [
       "<div>\n",
       "<style scoped>\n",
       "    .dataframe tbody tr th:only-of-type {\n",
       "        vertical-align: middle;\n",
       "    }\n",
       "\n",
       "    .dataframe tbody tr th {\n",
       "        vertical-align: top;\n",
       "    }\n",
       "\n",
       "    .dataframe thead th {\n",
       "        text-align: right;\n",
       "    }\n",
       "</style>\n",
       "<table border=\"1\" class=\"dataframe\">\n",
       "  <thead>\n",
       "    <tr style=\"text-align: right;\">\n",
       "      <th></th>\n",
       "      <th>code_module</th>\n",
       "      <th>code_presentation</th>\n",
       "      <th>id_assessment</th>\n",
       "      <th>assessment_type</th>\n",
       "      <th>date</th>\n",
       "      <th>weight</th>\n",
       "    </tr>\n",
       "  </thead>\n",
       "  <tbody>\n",
       "    <tr>\n",
       "      <th>0</th>\n",
       "      <td>AAA</td>\n",
       "      <td>2013J</td>\n",
       "      <td>1752</td>\n",
       "      <td>TMA</td>\n",
       "      <td>19.0</td>\n",
       "      <td>10.0</td>\n",
       "    </tr>\n",
       "    <tr>\n",
       "      <th>1</th>\n",
       "      <td>AAA</td>\n",
       "      <td>2013J</td>\n",
       "      <td>1753</td>\n",
       "      <td>TMA</td>\n",
       "      <td>54.0</td>\n",
       "      <td>20.0</td>\n",
       "    </tr>\n",
       "    <tr>\n",
       "      <th>2</th>\n",
       "      <td>AAA</td>\n",
       "      <td>2013J</td>\n",
       "      <td>1754</td>\n",
       "      <td>TMA</td>\n",
       "      <td>117.0</td>\n",
       "      <td>20.0</td>\n",
       "    </tr>\n",
       "    <tr>\n",
       "      <th>3</th>\n",
       "      <td>AAA</td>\n",
       "      <td>2013J</td>\n",
       "      <td>1755</td>\n",
       "      <td>TMA</td>\n",
       "      <td>166.0</td>\n",
       "      <td>20.0</td>\n",
       "    </tr>\n",
       "    <tr>\n",
       "      <th>4</th>\n",
       "      <td>AAA</td>\n",
       "      <td>2013J</td>\n",
       "      <td>1756</td>\n",
       "      <td>TMA</td>\n",
       "      <td>215.0</td>\n",
       "      <td>30.0</td>\n",
       "    </tr>\n",
       "  </tbody>\n",
       "</table>\n",
       "</div>"
      ],
      "text/plain": [
       "  code_module code_presentation  id_assessment assessment_type   date  weight\n",
       "0         AAA             2013J           1752             TMA   19.0    10.0\n",
       "1         AAA             2013J           1753             TMA   54.0    20.0\n",
       "2         AAA             2013J           1754             TMA  117.0    20.0\n",
       "3         AAA             2013J           1755             TMA  166.0    20.0\n",
       "4         AAA             2013J           1756             TMA  215.0    30.0"
      ]
     },
     "execution_count": 14,
     "metadata": {},
     "output_type": "execute_result"
    }
   ],
   "source": [
    "assessments.head()"
   ]
  },
  {
   "cell_type": "markdown",
   "metadata": {},
   "source": [
    "Već je u gornjem ispisu vidljivo da nedostaju neke vrijednosti iz kolone 'date'. Treba provjeriti ima li još kolona s nedostajućim vrijednostima."
   ]
  },
  {
   "cell_type": "code",
   "execution_count": 15,
   "metadata": {},
   "outputs": [
    {
     "name": "stdout",
     "output_type": "stream",
     "text": [
      "<class 'pandas.core.frame.DataFrame'>\n",
      "RangeIndex: 206 entries, 0 to 205\n",
      "Data columns (total 6 columns):\n",
      " #   Column             Non-Null Count  Dtype  \n",
      "---  ------             --------------  -----  \n",
      " 0   code_module        206 non-null    object \n",
      " 1   code_presentation  206 non-null    object \n",
      " 2   id_assessment      206 non-null    int64  \n",
      " 3   assessment_type    206 non-null    object \n",
      " 4   date               195 non-null    float64\n",
      " 5   weight             206 non-null    float64\n",
      "dtypes: float64(2), int64(1), object(3)\n",
      "memory usage: 9.8+ KB\n"
     ]
    }
   ],
   "source": [
    "assessments.info()"
   ]
  },
  {
   "cell_type": "code",
   "execution_count": 16,
   "metadata": {},
   "outputs": [
    {
     "data": {
      "text/plain": [
       "code_module           0\n",
       "code_presentation     0\n",
       "id_assessment         0\n",
       "assessment_type       0\n",
       "date                 11\n",
       "weight                0\n",
       "dtype: int64"
      ]
     },
     "execution_count": 16,
     "metadata": {},
     "output_type": "execute_result"
    }
   ],
   "source": [
    "assessments.isna().sum()"
   ]
  },
  {
   "cell_type": "markdown",
   "metadata": {},
   "source": [
    "Postoji 11 primjera koji nemaju datum provjere. To je 8% od ukupnog primjerka pa je prije odluke što učiniti bitno još detaljnije pogledati podatke."
   ]
  },
  {
   "cell_type": "code",
   "execution_count": 17,
   "metadata": {},
   "outputs": [
    {
     "data": {
      "text/html": [
       "<div>\n",
       "<style scoped>\n",
       "    .dataframe tbody tr th:only-of-type {\n",
       "        vertical-align: middle;\n",
       "    }\n",
       "\n",
       "    .dataframe tbody tr th {\n",
       "        vertical-align: top;\n",
       "    }\n",
       "\n",
       "    .dataframe thead th {\n",
       "        text-align: right;\n",
       "    }\n",
       "</style>\n",
       "<table border=\"1\" class=\"dataframe\">\n",
       "  <thead>\n",
       "    <tr style=\"text-align: right;\">\n",
       "      <th></th>\n",
       "      <th>code_module</th>\n",
       "      <th>code_presentation</th>\n",
       "      <th>id_assessment</th>\n",
       "      <th>assessment_type</th>\n",
       "      <th>date</th>\n",
       "      <th>weight</th>\n",
       "    </tr>\n",
       "  </thead>\n",
       "  <tbody>\n",
       "    <tr>\n",
       "      <th>5</th>\n",
       "      <td>AAA</td>\n",
       "      <td>2013J</td>\n",
       "      <td>1757</td>\n",
       "      <td>Exam</td>\n",
       "      <td>NaN</td>\n",
       "      <td>100.0</td>\n",
       "    </tr>\n",
       "    <tr>\n",
       "      <th>11</th>\n",
       "      <td>AAA</td>\n",
       "      <td>2014J</td>\n",
       "      <td>1763</td>\n",
       "      <td>Exam</td>\n",
       "      <td>NaN</td>\n",
       "      <td>100.0</td>\n",
       "    </tr>\n",
       "    <tr>\n",
       "      <th>23</th>\n",
       "      <td>BBB</td>\n",
       "      <td>2013B</td>\n",
       "      <td>14990</td>\n",
       "      <td>Exam</td>\n",
       "      <td>NaN</td>\n",
       "      <td>100.0</td>\n",
       "    </tr>\n",
       "    <tr>\n",
       "      <th>35</th>\n",
       "      <td>BBB</td>\n",
       "      <td>2013J</td>\n",
       "      <td>15002</td>\n",
       "      <td>Exam</td>\n",
       "      <td>NaN</td>\n",
       "      <td>100.0</td>\n",
       "    </tr>\n",
       "    <tr>\n",
       "      <th>47</th>\n",
       "      <td>BBB</td>\n",
       "      <td>2014B</td>\n",
       "      <td>15014</td>\n",
       "      <td>Exam</td>\n",
       "      <td>NaN</td>\n",
       "      <td>100.0</td>\n",
       "    </tr>\n",
       "    <tr>\n",
       "      <th>53</th>\n",
       "      <td>BBB</td>\n",
       "      <td>2014J</td>\n",
       "      <td>15025</td>\n",
       "      <td>Exam</td>\n",
       "      <td>NaN</td>\n",
       "      <td>100.0</td>\n",
       "    </tr>\n",
       "    <tr>\n",
       "      <th>62</th>\n",
       "      <td>CCC</td>\n",
       "      <td>2014B</td>\n",
       "      <td>24290</td>\n",
       "      <td>Exam</td>\n",
       "      <td>NaN</td>\n",
       "      <td>100.0</td>\n",
       "    </tr>\n",
       "    <tr>\n",
       "      <th>63</th>\n",
       "      <td>CCC</td>\n",
       "      <td>2014B</td>\n",
       "      <td>40087</td>\n",
       "      <td>Exam</td>\n",
       "      <td>NaN</td>\n",
       "      <td>100.0</td>\n",
       "    </tr>\n",
       "    <tr>\n",
       "      <th>72</th>\n",
       "      <td>CCC</td>\n",
       "      <td>2014J</td>\n",
       "      <td>24299</td>\n",
       "      <td>Exam</td>\n",
       "      <td>NaN</td>\n",
       "      <td>100.0</td>\n",
       "    </tr>\n",
       "    <tr>\n",
       "      <th>73</th>\n",
       "      <td>CCC</td>\n",
       "      <td>2014J</td>\n",
       "      <td>40088</td>\n",
       "      <td>Exam</td>\n",
       "      <td>NaN</td>\n",
       "      <td>100.0</td>\n",
       "    </tr>\n",
       "    <tr>\n",
       "      <th>108</th>\n",
       "      <td>DDD</td>\n",
       "      <td>2014J</td>\n",
       "      <td>25368</td>\n",
       "      <td>Exam</td>\n",
       "      <td>NaN</td>\n",
       "      <td>100.0</td>\n",
       "    </tr>\n",
       "  </tbody>\n",
       "</table>\n",
       "</div>"
      ],
      "text/plain": [
       "    code_module code_presentation  id_assessment assessment_type  date  weight\n",
       "5           AAA             2013J           1757            Exam   NaN   100.0\n",
       "11          AAA             2014J           1763            Exam   NaN   100.0\n",
       "23          BBB             2013B          14990            Exam   NaN   100.0\n",
       "35          BBB             2013J          15002            Exam   NaN   100.0\n",
       "47          BBB             2014B          15014            Exam   NaN   100.0\n",
       "53          BBB             2014J          15025            Exam   NaN   100.0\n",
       "62          CCC             2014B          24290            Exam   NaN   100.0\n",
       "63          CCC             2014B          40087            Exam   NaN   100.0\n",
       "72          CCC             2014J          24299            Exam   NaN   100.0\n",
       "73          CCC             2014J          40088            Exam   NaN   100.0\n",
       "108         DDD             2014J          25368            Exam   NaN   100.0"
      ]
     },
     "execution_count": 17,
     "metadata": {},
     "output_type": "execute_result"
    }
   ],
   "source": [
    "df_assessments = pd.DataFrame(assessments)\n",
    "assessments_without_date = assessments[assessments['date'].isna()]\n",
    "assessments_without_date"
   ]
  },
  {
   "cell_type": "code",
   "execution_count": 18,
   "metadata": {},
   "outputs": [
    {
     "data": {
      "image/png": "[encoded data removed]",
      "text/plain": [
       "<Figure size 640x480 with 1 Axes>"
      ]
     },
     "metadata": {},
     "output_type": "display_data"
    }
   ],
   "source": [
    "plt.scatter(assessments.assessment_type, assessments.date)\n",
    "plt.title(\"Graf 2.1: Assessments\")\n",
    "plt.xlabel(\"Type of assessment\")\n",
    "plt.ylabel(\"No. of days from start of the course till the assessment\")\n",
    "plt.show()"
   ]
  },
  {
   "cell_type": "markdown",
   "metadata": {},
   "source": [
    "Iz tablice dobivene filtriranjem tablice 'Assessments' tako da su vidljivi samo primjeri kojima nedostaje zapis datuma, vidljivo je da se radi samo o primjerima tipa 'Exam'. Također, na grafu koji prikazuje raspored težine zaduženja na predmetu prema tipu zaduženja vidimo da su sva zaduženja tipa 'Exam' u dosta bliskom periodu pa je moguće zaključiti da je u redu da se nedostajuće datume popuni sa srednjom vrijednošću svih datuma zaduženja tipa 'Exam'."
   ]
  },
  {
   "cell_type": "code",
   "execution_count": 19,
   "metadata": {},
   "outputs": [
    {
     "data": {
      "text/html": [
       "<div>\n",
       "<style scoped>\n",
       "    .dataframe tbody tr th:only-of-type {\n",
       "        vertical-align: middle;\n",
       "    }\n",
       "\n",
       "    .dataframe tbody tr th {\n",
       "        vertical-align: top;\n",
       "    }\n",
       "\n",
       "    .dataframe thead th {\n",
       "        text-align: right;\n",
       "    }\n",
       "</style>\n",
       "<table border=\"1\" class=\"dataframe\">\n",
       "  <thead>\n",
       "    <tr style=\"text-align: right;\">\n",
       "      <th></th>\n",
       "      <th>id_assessment</th>\n",
       "      <th>date</th>\n",
       "      <th>weight</th>\n",
       "    </tr>\n",
       "  </thead>\n",
       "  <tbody>\n",
       "    <tr>\n",
       "      <th>count</th>\n",
       "      <td>206.000000</td>\n",
       "      <td>195.000000</td>\n",
       "      <td>206.000000</td>\n",
       "    </tr>\n",
       "    <tr>\n",
       "      <th>mean</th>\n",
       "      <td>26473.975728</td>\n",
       "      <td>145.005128</td>\n",
       "      <td>20.873786</td>\n",
       "    </tr>\n",
       "    <tr>\n",
       "      <th>std</th>\n",
       "      <td>10098.625521</td>\n",
       "      <td>76.001119</td>\n",
       "      <td>30.384224</td>\n",
       "    </tr>\n",
       "    <tr>\n",
       "      <th>min</th>\n",
       "      <td>1752.000000</td>\n",
       "      <td>12.000000</td>\n",
       "      <td>0.000000</td>\n",
       "    </tr>\n",
       "    <tr>\n",
       "      <th>25%</th>\n",
       "      <td>15023.250000</td>\n",
       "      <td>71.000000</td>\n",
       "      <td>0.000000</td>\n",
       "    </tr>\n",
       "    <tr>\n",
       "      <th>50%</th>\n",
       "      <td>25364.500000</td>\n",
       "      <td>152.000000</td>\n",
       "      <td>12.500000</td>\n",
       "    </tr>\n",
       "    <tr>\n",
       "      <th>75%</th>\n",
       "      <td>34891.750000</td>\n",
       "      <td>222.000000</td>\n",
       "      <td>24.250000</td>\n",
       "    </tr>\n",
       "    <tr>\n",
       "      <th>max</th>\n",
       "      <td>40088.000000</td>\n",
       "      <td>261.000000</td>\n",
       "      <td>100.000000</td>\n",
       "    </tr>\n",
       "  </tbody>\n",
       "</table>\n",
       "</div>"
      ],
      "text/plain": [
       "       id_assessment        date      weight\n",
       "count     206.000000  195.000000  206.000000\n",
       "mean    26473.975728  145.005128   20.873786\n",
       "std     10098.625521   76.001119   30.384224\n",
       "min      1752.000000   12.000000    0.000000\n",
       "25%     15023.250000   71.000000    0.000000\n",
       "50%     25364.500000  152.000000   12.500000\n",
       "75%     34891.750000  222.000000   24.250000\n",
       "max     40088.000000  261.000000  100.000000"
      ]
     },
     "execution_count": 19,
     "metadata": {},
     "output_type": "execute_result"
    }
   ],
   "source": [
    "#deskriptivna statistika\n",
    "assessments.describe()"
   ]
  },
  {
   "cell_type": "markdown",
   "metadata": {},
   "source": [
    "Treba provjeriti postoje li stršeće vrijednosti."
   ]
  },
  {
   "cell_type": "code",
   "execution_count": 20,
   "metadata": {},
   "outputs": [
    {
     "name": "stdout",
     "output_type": "stream",
     "text": [
      "Date in <0, 50]:  29\n",
      "Date in <50, 100]:  34\n",
      "Date in <100, 150]:  30\n",
      "Date in <150, 200]:  33\n",
      "Date in <200, 261]:  69\n"
     ]
    }
   ],
   "source": [
    "print('Date in <0, 50]: ', ((assessments.date > 0) & (assessments.date <= 50) ).sum())\n",
    "print('Date in <50, 100]: ', ((assessments.date > 50) & (assessments.date <= 100)).sum())\n",
    "print('Date in <100, 150]: ', ((assessments.date > 100) & (assessments.date <= 150)).sum())\n",
    "print('Date in <150, 200]: ', ((assessments.date > 150 )& (assessments.date <= 200)).sum())\n",
    "print('Date in <200, 261]: ', ((assessments.date > 200) & (assessments.date <= 261)).sum())\n"
   ]
  },
  {
   "cell_type": "code",
   "execution_count": 21,
   "metadata": {},
   "outputs": [
    {
     "data": {
      "image/png": "[encoded data removed]",
      "text/plain": [
       "<Figure size 640x480 with 1 Axes>"
      ]
     },
     "metadata": {},
     "output_type": "display_data"
    }
   ],
   "source": [
    "plt.scatter(assessments.assessment_type, assessments.date)\n",
    "plt.title(\"Graf 2.2: Assessments\")\n",
    "plt.xlabel(\"Assessment types\")\n",
    "plt.ylabel(\"No. of days from start of the course till the assessment\")\n",
    "plt.show()"
   ]
  },
  {
   "cell_type": "markdown",
   "metadata": {},
   "source": [
    "Iz gornjeg ispisa i grafa vidljivo je da u koloni 'date' nema stršećih vrijednosti."
   ]
  },
  {
   "cell_type": "code",
   "execution_count": 22,
   "metadata": {},
   "outputs": [
    {
     "name": "stdout",
     "output_type": "stream",
     "text": [
      "Weight in <0, 20]:  92\n",
      "Weight in <20, 40]:  34\n",
      "Weight in <40, 60]:  0\n",
      "Weight in <60, 80]:  0\n",
      "Weight in <80, 100]:  24\n"
     ]
    }
   ],
   "source": [
    "print('Weight in <0, 20]: ', ((assessments.weight > 0) & (assessments.weight <= 20) ).sum())\n",
    "print('Weight in <20, 40]: ', ((assessments.weight > 20) & (assessments.weight <= 40)).sum())\n",
    "print('Weight in <40, 60]: ', ((assessments.weight > 40) & (assessments.weight <= 60)).sum())\n",
    "print('Weight in <60, 80]: ', ((assessments.weight > 60 )& (assessments.weight <= 80)).sum())\n",
    "print('Weight in <80, 100]: ', ((assessments.weight > 80) & (assessments.weight <= 100)).sum())"
   ]
  },
  {
   "cell_type": "code",
   "execution_count": 23,
   "metadata": {},
   "outputs": [
    {
     "data": {
      "image/png": "[encoded data removed]",
      "text/plain": [
       "<Figure size 640x480 with 1 Axes>"
      ]
     },
     "metadata": {},
     "output_type": "display_data"
    }
   ],
   "source": [
    "plt.scatter(assessments.assessment_type, assessments.weight)\n",
    "plt.title(\"Graf 2.3: Assessments\")\n",
    "plt.xlabel(\"Assessment types\")\n",
    "plt.ylabel(\"Assessment weight (in %)\")\n",
    "plt.show()"
   ]
  },
  {
   "cell_type": "markdown",
   "metadata": {},
   "source": [
    "Iz gornjeg ispisa i grafa vidljivo je da u koloni 'date' nema značajno stršećih vrijednosti."
   ]
  },
  {
   "cell_type": "code",
   "execution_count": 24,
   "metadata": {},
   "outputs": [
    {
     "data": {
      "image/png": "[encoded data removed]",
      "text/plain": [
       "<Figure size 640x480 with 1 Axes>"
      ]
     },
     "metadata": {},
     "output_type": "display_data"
    }
   ],
   "source": [
    "count_per_type = assessments.groupby('assessment_type').count().loc[:,'date'].values\n",
    "assessment_types = assessments.groupby('assessment_type').count().index.values\n",
    "\n",
    "plt.grid()\n",
    "plt.bar(assessment_types, count_per_type)\n",
    "plt.title(\"Graf 2.4: Assessments\")\n",
    "plt.xlabel(\"Assessment type\")\n",
    "plt.ylabel(\"No. of assessments\")\n",
    "plt.show()"
   ]
  },
  {
   "cell_type": "markdown",
   "metadata": {},
   "source": [
    "Graf 2.4 pokazuje koliko ima zaduženja iz svake kategorije."
   ]
  },
  {
   "cell_type": "markdown",
   "metadata": {},
   "source": [
    "#### 3. Tablica 'Vle'\n",
    "Ova tablica je popis svih dostupnih materijala za svaki predmet na VLE platformi (Virtual Learning Environment).<br>\n",
    "\n",
    "Materijale opisuju sljedeće značajke: <br>\n",
    "\n",
    "a) *id_site* -> identifikator materijala <br>\n",
    "b) *'code_module'* - šifra predmeta <br>\n",
    "c) *'code_presentation'* - šifra koja označava razdoblje izvođenja predmeta, na početku je godina izvođenja, a na kraju je oznaka B za ljetni semestar i J za zimski <br>\n",
    "d) *'activity_type'* - vrsta materijala\n",
    "e) *'week_from'* - broj tjedna u kojem bi studenti trebali početi korisititi materijal\n",
    "f) *'week_to'* - broj tjedna u kojem bi studenti trebali završiti s korištenjem materijal"
   ]
  },
  {
   "cell_type": "code",
   "execution_count": 25,
   "metadata": {},
   "outputs": [
    {
     "name": "stdout",
     "output_type": "stream",
     "text": [
      "(6364, 6)\n"
     ]
    },
    {
     "data": {
      "text/html": [
       "<div>\n",
       "<style scoped>\n",
       "    .dataframe tbody tr th:only-of-type {\n",
       "        vertical-align: middle;\n",
       "    }\n",
       "\n",
       "    .dataframe tbody tr th {\n",
       "        vertical-align: top;\n",
       "    }\n",
       "\n",
       "    .dataframe thead th {\n",
       "        text-align: right;\n",
       "    }\n",
       "</style>\n",
       "<table border=\"1\" class=\"dataframe\">\n",
       "  <thead>\n",
       "    <tr style=\"text-align: right;\">\n",
       "      <th></th>\n",
       "      <th>id_site</th>\n",
       "      <th>code_module</th>\n",
       "      <th>code_presentation</th>\n",
       "      <th>activity_type</th>\n",
       "      <th>week_from</th>\n",
       "      <th>week_to</th>\n",
       "    </tr>\n",
       "  </thead>\n",
       "  <tbody>\n",
       "    <tr>\n",
       "      <th>0</th>\n",
       "      <td>546943</td>\n",
       "      <td>AAA</td>\n",
       "      <td>2013J</td>\n",
       "      <td>resource</td>\n",
       "      <td>NaN</td>\n",
       "      <td>NaN</td>\n",
       "    </tr>\n",
       "    <tr>\n",
       "      <th>1</th>\n",
       "      <td>546712</td>\n",
       "      <td>AAA</td>\n",
       "      <td>2013J</td>\n",
       "      <td>oucontent</td>\n",
       "      <td>NaN</td>\n",
       "      <td>NaN</td>\n",
       "    </tr>\n",
       "    <tr>\n",
       "      <th>2</th>\n",
       "      <td>546998</td>\n",
       "      <td>AAA</td>\n",
       "      <td>2013J</td>\n",
       "      <td>resource</td>\n",
       "      <td>NaN</td>\n",
       "      <td>NaN</td>\n",
       "    </tr>\n",
       "    <tr>\n",
       "      <th>3</th>\n",
       "      <td>546888</td>\n",
       "      <td>AAA</td>\n",
       "      <td>2013J</td>\n",
       "      <td>url</td>\n",
       "      <td>NaN</td>\n",
       "      <td>NaN</td>\n",
       "    </tr>\n",
       "    <tr>\n",
       "      <th>4</th>\n",
       "      <td>547035</td>\n",
       "      <td>AAA</td>\n",
       "      <td>2013J</td>\n",
       "      <td>resource</td>\n",
       "      <td>NaN</td>\n",
       "      <td>NaN</td>\n",
       "    </tr>\n",
       "  </tbody>\n",
       "</table>\n",
       "</div>"
      ],
      "text/plain": [
       "   id_site code_module code_presentation activity_type  week_from  week_to\n",
       "0   546943         AAA             2013J      resource        NaN      NaN\n",
       "1   546712         AAA             2013J     oucontent        NaN      NaN\n",
       "2   546998         AAA             2013J      resource        NaN      NaN\n",
       "3   546888         AAA             2013J           url        NaN      NaN\n",
       "4   547035         AAA             2013J      resource        NaN      NaN"
      ]
     },
     "execution_count": 25,
     "metadata": {},
     "output_type": "execute_result"
    }
   ],
   "source": [
    "print(vle.shape)\n",
    "vle.head()"
   ]
  },
  {
   "cell_type": "code",
   "execution_count": 26,
   "metadata": {},
   "outputs": [
    {
     "data": {
      "text/plain": [
       "id_site              6364\n",
       "code_module             7\n",
       "code_presentation       4\n",
       "activity_type          20\n",
       "week_from              30\n",
       "week_to                30\n",
       "dtype: int64"
      ]
     },
     "execution_count": 26,
     "metadata": {},
     "output_type": "execute_result"
    }
   ],
   "source": [
    "vle.nunique()"
   ]
  },
  {
   "cell_type": "markdown",
   "metadata": {},
   "source": [
    "Opet je opravdano obrisati identifikator tablice, odnosno u ovom slučaju kolonu 'id_site' (monotona varijabla), međutim dobro ju je i ostaviti u datasetu jer je potrebna kod operacija prebrojavanja."
   ]
  },
  {
   "cell_type": "code",
   "execution_count": 27,
   "metadata": {},
   "outputs": [
    {
     "name": "stdout",
     "output_type": "stream",
     "text": [
      "<class 'pandas.core.frame.DataFrame'>\n",
      "RangeIndex: 6364 entries, 0 to 6363\n",
      "Data columns (total 6 columns):\n",
      " #   Column             Non-Null Count  Dtype  \n",
      "---  ------             --------------  -----  \n",
      " 0   id_site            6364 non-null   int64  \n",
      " 1   code_module        6364 non-null   object \n",
      " 2   code_presentation  6364 non-null   object \n",
      " 3   activity_type      6364 non-null   object \n",
      " 4   week_from          1121 non-null   float64\n",
      " 5   week_to            1121 non-null   float64\n",
      "dtypes: float64(2), int64(1), object(3)\n",
      "memory usage: 298.4+ KB\n"
     ]
    }
   ],
   "source": [
    "vle.info()"
   ]
  },
  {
   "cell_type": "markdown",
   "metadata": {},
   "source": [
    "Od početka je vidljivo da nedostaje puno podataka za značajke 'week_from' i 'week_to'. Međutim, ima previše poznatih vrijednosti da bismo mogli izbaciti te značajke te previše nepoznatih vrijednosti da bismo mogli izbaciti primjere."
   ]
  },
  {
   "cell_type": "code",
   "execution_count": 28,
   "metadata": {},
   "outputs": [
    {
     "data": {
      "text/html": [
       "<div>\n",
       "<style scoped>\n",
       "    .dataframe tbody tr th:only-of-type {\n",
       "        vertical-align: middle;\n",
       "    }\n",
       "\n",
       "    .dataframe tbody tr th {\n",
       "        vertical-align: top;\n",
       "    }\n",
       "\n",
       "    .dataframe thead th {\n",
       "        text-align: right;\n",
       "    }\n",
       "</style>\n",
       "<table border=\"1\" class=\"dataframe\">\n",
       "  <thead>\n",
       "    <tr style=\"text-align: right;\">\n",
       "      <th></th>\n",
       "      <th>id_site</th>\n",
       "      <th>week_from</th>\n",
       "      <th>week_to</th>\n",
       "    </tr>\n",
       "  </thead>\n",
       "  <tbody>\n",
       "    <tr>\n",
       "      <th>count</th>\n",
       "      <td>6.364000e+03</td>\n",
       "      <td>1121.000000</td>\n",
       "      <td>1121.000000</td>\n",
       "    </tr>\n",
       "    <tr>\n",
       "      <th>mean</th>\n",
       "      <td>7.260991e+05</td>\n",
       "      <td>15.204282</td>\n",
       "      <td>15.214987</td>\n",
       "    </tr>\n",
       "    <tr>\n",
       "      <th>std</th>\n",
       "      <td>1.283151e+05</td>\n",
       "      <td>8.792865</td>\n",
       "      <td>8.779806</td>\n",
       "    </tr>\n",
       "    <tr>\n",
       "      <th>min</th>\n",
       "      <td>5.267210e+05</td>\n",
       "      <td>0.000000</td>\n",
       "      <td>0.000000</td>\n",
       "    </tr>\n",
       "    <tr>\n",
       "      <th>25%</th>\n",
       "      <td>6.615928e+05</td>\n",
       "      <td>8.000000</td>\n",
       "      <td>8.000000</td>\n",
       "    </tr>\n",
       "    <tr>\n",
       "      <th>50%</th>\n",
       "      <td>7.300965e+05</td>\n",
       "      <td>15.000000</td>\n",
       "      <td>15.000000</td>\n",
       "    </tr>\n",
       "    <tr>\n",
       "      <th>75%</th>\n",
       "      <td>8.140162e+05</td>\n",
       "      <td>22.000000</td>\n",
       "      <td>22.000000</td>\n",
       "    </tr>\n",
       "    <tr>\n",
       "      <th>max</th>\n",
       "      <td>1.077905e+06</td>\n",
       "      <td>29.000000</td>\n",
       "      <td>29.000000</td>\n",
       "    </tr>\n",
       "  </tbody>\n",
       "</table>\n",
       "</div>"
      ],
      "text/plain": [
       "            id_site    week_from      week_to\n",
       "count  6.364000e+03  1121.000000  1121.000000\n",
       "mean   7.260991e+05    15.204282    15.214987\n",
       "std    1.283151e+05     8.792865     8.779806\n",
       "min    5.267210e+05     0.000000     0.000000\n",
       "25%    6.615928e+05     8.000000     8.000000\n",
       "50%    7.300965e+05    15.000000    15.000000\n",
       "75%    8.140162e+05    22.000000    22.000000\n",
       "max    1.077905e+06    29.000000    29.000000"
      ]
     },
     "execution_count": 28,
     "metadata": {},
     "output_type": "execute_result"
    }
   ],
   "source": [
    "vle.describe()"
   ]
  },
  {
   "cell_type": "code",
   "execution_count": 29,
   "metadata": {},
   "outputs": [],
   "source": [
    "#filter vle.week_from so that there is no nan values\n",
    "vle_without_empty_week_values = vle[~vle['week_from'].isna()]\n",
    "vle_without_empty_week_values = vle_without_empty_week_values[~vle_without_empty_week_values['week_to'].isna()]\n",
    "\n",
    "vle_only_empty_week_values = vle[vle['week_from'].isna()]\n",
    "vle_only_empty_week_values = vle_only_empty_week_values[vle_only_empty_week_values['week_to'].isna()]\n"
   ]
  },
  {
   "cell_type": "code",
   "execution_count": 30,
   "metadata": {},
   "outputs": [
    {
     "data": {
      "text/html": [
       "<div>\n",
       "<style scoped>\n",
       "    .dataframe tbody tr th:only-of-type {\n",
       "        vertical-align: middle;\n",
       "    }\n",
       "\n",
       "    .dataframe tbody tr th {\n",
       "        vertical-align: top;\n",
       "    }\n",
       "\n",
       "    .dataframe thead th {\n",
       "        text-align: right;\n",
       "    }\n",
       "</style>\n",
       "<table border=\"1\" class=\"dataframe\">\n",
       "  <thead>\n",
       "    <tr style=\"text-align: right;\">\n",
       "      <th></th>\n",
       "      <th>id_site</th>\n",
       "      <th>code_module</th>\n",
       "      <th>code_presentation</th>\n",
       "      <th>activity_type</th>\n",
       "      <th>week_from</th>\n",
       "      <th>week_to</th>\n",
       "    </tr>\n",
       "  </thead>\n",
       "  <tbody>\n",
       "    <tr>\n",
       "      <th>0</th>\n",
       "      <td>546943</td>\n",
       "      <td>AAA</td>\n",
       "      <td>2013J</td>\n",
       "      <td>resource</td>\n",
       "      <td>NaN</td>\n",
       "      <td>NaN</td>\n",
       "    </tr>\n",
       "    <tr>\n",
       "      <th>1</th>\n",
       "      <td>546712</td>\n",
       "      <td>AAA</td>\n",
       "      <td>2013J</td>\n",
       "      <td>oucontent</td>\n",
       "      <td>NaN</td>\n",
       "      <td>NaN</td>\n",
       "    </tr>\n",
       "    <tr>\n",
       "      <th>2</th>\n",
       "      <td>546998</td>\n",
       "      <td>AAA</td>\n",
       "      <td>2013J</td>\n",
       "      <td>resource</td>\n",
       "      <td>NaN</td>\n",
       "      <td>NaN</td>\n",
       "    </tr>\n",
       "    <tr>\n",
       "      <th>3</th>\n",
       "      <td>546888</td>\n",
       "      <td>AAA</td>\n",
       "      <td>2013J</td>\n",
       "      <td>url</td>\n",
       "      <td>NaN</td>\n",
       "      <td>NaN</td>\n",
       "    </tr>\n",
       "    <tr>\n",
       "      <th>4</th>\n",
       "      <td>547035</td>\n",
       "      <td>AAA</td>\n",
       "      <td>2013J</td>\n",
       "      <td>resource</td>\n",
       "      <td>NaN</td>\n",
       "      <td>NaN</td>\n",
       "    </tr>\n",
       "    <tr>\n",
       "      <th>...</th>\n",
       "      <td>...</td>\n",
       "      <td>...</td>\n",
       "      <td>...</td>\n",
       "      <td>...</td>\n",
       "      <td>...</td>\n",
       "      <td>...</td>\n",
       "    </tr>\n",
       "    <tr>\n",
       "      <th>6359</th>\n",
       "      <td>897063</td>\n",
       "      <td>GGG</td>\n",
       "      <td>2014J</td>\n",
       "      <td>resource</td>\n",
       "      <td>NaN</td>\n",
       "      <td>NaN</td>\n",
       "    </tr>\n",
       "    <tr>\n",
       "      <th>6360</th>\n",
       "      <td>897109</td>\n",
       "      <td>GGG</td>\n",
       "      <td>2014J</td>\n",
       "      <td>resource</td>\n",
       "      <td>NaN</td>\n",
       "      <td>NaN</td>\n",
       "    </tr>\n",
       "    <tr>\n",
       "      <th>6361</th>\n",
       "      <td>896965</td>\n",
       "      <td>GGG</td>\n",
       "      <td>2014J</td>\n",
       "      <td>oucontent</td>\n",
       "      <td>NaN</td>\n",
       "      <td>NaN</td>\n",
       "    </tr>\n",
       "    <tr>\n",
       "      <th>6362</th>\n",
       "      <td>897060</td>\n",
       "      <td>GGG</td>\n",
       "      <td>2014J</td>\n",
       "      <td>resource</td>\n",
       "      <td>NaN</td>\n",
       "      <td>NaN</td>\n",
       "    </tr>\n",
       "    <tr>\n",
       "      <th>6363</th>\n",
       "      <td>897100</td>\n",
       "      <td>GGG</td>\n",
       "      <td>2014J</td>\n",
       "      <td>resource</td>\n",
       "      <td>NaN</td>\n",
       "      <td>NaN</td>\n",
       "    </tr>\n",
       "  </tbody>\n",
       "</table>\n",
       "<p>5243 rows × 6 columns</p>\n",
       "</div>"
      ],
      "text/plain": [
       "      id_site code_module code_presentation activity_type  week_from  week_to\n",
       "0      546943         AAA             2013J      resource        NaN      NaN\n",
       "1      546712         AAA             2013J     oucontent        NaN      NaN\n",
       "2      546998         AAA             2013J      resource        NaN      NaN\n",
       "3      546888         AAA             2013J           url        NaN      NaN\n",
       "4      547035         AAA             2013J      resource        NaN      NaN\n",
       "...       ...         ...               ...           ...        ...      ...\n",
       "6359   897063         GGG             2014J      resource        NaN      NaN\n",
       "6360   897109         GGG             2014J      resource        NaN      NaN\n",
       "6361   896965         GGG             2014J     oucontent        NaN      NaN\n",
       "6362   897060         GGG             2014J      resource        NaN      NaN\n",
       "6363   897100         GGG             2014J      resource        NaN      NaN\n",
       "\n",
       "[5243 rows x 6 columns]"
      ]
     },
     "execution_count": 30,
     "metadata": {},
     "output_type": "execute_result"
    }
   ],
   "source": [
    "vle_only_empty_week_values"
   ]
  },
  {
   "cell_type": "code",
   "execution_count": 31,
   "metadata": {},
   "outputs": [
    {
     "data": {
      "text/plain": [
       "array([  6, 186,  10,   2,  79, 826,  12])"
      ]
     },
     "execution_count": 31,
     "metadata": {},
     "output_type": "execute_result"
    }
   ],
   "source": [
    "#count how many of each code_module there is\n",
    "count_per_module_without_empty_week_values = vle_without_empty_week_values.groupby('code_module').count().loc[:,'id_site'].values\n",
    "count_per_module_without_empty_week_values"
   ]
  },
  {
   "cell_type": "code",
   "execution_count": 32,
   "metadata": {},
   "outputs": [
    {
     "data": {
      "text/plain": [
       "array([ 413, 1154,  419, 1708,  336, 1967,  367])"
      ]
     },
     "execution_count": 32,
     "metadata": {},
     "output_type": "execute_result"
    }
   ],
   "source": [
    "#count how many of each code_module there is in the dataset without id_site\n",
    "count_per_module2 = vle.groupby('code_module').count().loc[:,'id_site'].values\n",
    "count_per_module2"
   ]
  },
  {
   "cell_type": "code",
   "execution_count": 33,
   "metadata": {},
   "outputs": [
    {
     "name": "stdout",
     "output_type": "stream",
     "text": [
      "AAA->0.014527845036319613\n",
      "BBB->0.1611785095320624\n",
      "CCC->0.02386634844868735\n",
      "DDD->0.00117096018735363\n",
      "EEE->0.23511904761904762\n",
      "FFF->0.4199288256227758\n",
      "GGG->0.0326975476839237\n"
     ]
    }
   ],
   "source": [
    "for i in range (0, len(count_per_module_without_empty_week_values)):\n",
    "    print(vle.code_module.unique()[i] +  \"->\" + (count_per_module_without_empty_week_values[i]/count_per_module2[i]).astype(str))"
   ]
  },
  {
   "cell_type": "markdown",
   "metadata": {},
   "source": [
    "U gornjem ispisu možemo vidjeti koliki bi se postotak zapisa o kojem predmetu izgubio kada bismo obrisali značajke 'week_from' and 'week-to'. <br>\n",
    "Ne možemo izbrisati značajke, a ne možemo ni obrisati zapise bez podataka o tim značajkama. Jedino što preostaje je popuniti te informacije, a to bi se moglo tako da, ako primjerice nedostaju podaci za predmet 'AAA' u ljetnom semestru 2013., mogli bismo ih uzeti iz 'AAA' u ljetnom semestru 2014.\n",
    "Ne smatram da bi to u ukupnom  pogledu na podatke značajno pridonijelo pa sam odlučila podatke samo ostaviti kakvi jesu."
   ]
  },
  {
   "cell_type": "markdown",
   "metadata": {},
   "source": [
    "#### 4. Tablica studentInfo.csv\n",
    "Ova tablica sadrži demografske podatke o studentima te njihovim rezultatima na studiju. <br>\n",
    "\n",
    "Značajke ove tablice su: <br>\n",
    "\n",
    "a) *code_module* - šifra predmeta kojeg student polaže <br>\n",
    "b) *code_presentation* - šifra koja označava razdoblje u kojem student pohađa predmet, na početku je godina izvođenja, a na kraju je oznaka B za ljetni semestar i J za zimski <br>\n",
    "c) *id_student* - identifikator studenta <br>\n",
    "d) *gender* – spol studenta<br>\n",
    "e) *region* – mjesto stanovanja studenta za vrijeme polaganja predmeta<br>\n",
    "f) *highest_education* – najviše položen stupanj obrazovanja u trenutku upisivanja predmeta<br>\n",
    "g) *imd_band* – indeks stupnja siromaštva mjesta stanovanja studenta u trenutku polaganja predmeta<br>\n",
    "h) *age_band* – dobna skupina kojoj student pripada<br>\n",
    "i) *num_of_prev_attempts* – broj pokušaja polaganja predmeta<br>\n",
    "j) *studied_credits* – broj bodova (npr. ECTS-a) koje je student položio<br>\n",
    "k) *disability* – označava ima li student neku teškoću u razvoju<br>\n",
    "l) *final_result* – status studenta na kraju semestra (prolaz/pad/ispisao predmet/prolaz s pohvalom)<br>"
   ]
  },
  {
   "cell_type": "code",
   "execution_count": 34,
   "metadata": {},
   "outputs": [
    {
     "name": "stdout",
     "output_type": "stream",
     "text": [
      "(32593, 12)\n"
     ]
    },
    {
     "data": {
      "text/html": [
       "<div>\n",
       "<style scoped>\n",
       "    .dataframe tbody tr th:only-of-type {\n",
       "        vertical-align: middle;\n",
       "    }\n",
       "\n",
       "    .dataframe tbody tr th {\n",
       "        vertical-align: top;\n",
       "    }\n",
       "\n",
       "    .dataframe thead th {\n",
       "        text-align: right;\n",
       "    }\n",
       "</style>\n",
       "<table border=\"1\" class=\"dataframe\">\n",
       "  <thead>\n",
       "    <tr style=\"text-align: right;\">\n",
       "      <th></th>\n",
       "      <th>code_module</th>\n",
       "      <th>code_presentation</th>\n",
       "      <th>id_student</th>\n",
       "      <th>gender</th>\n",
       "      <th>region</th>\n",
       "      <th>highest_education</th>\n",
       "      <th>imd_band</th>\n",
       "      <th>age_band</th>\n",
       "      <th>num_of_prev_attempts</th>\n",
       "      <th>studied_credits</th>\n",
       "      <th>disability</th>\n",
       "      <th>final_result</th>\n",
       "    </tr>\n",
       "  </thead>\n",
       "  <tbody>\n",
       "    <tr>\n",
       "      <th>0</th>\n",
       "      <td>AAA</td>\n",
       "      <td>2013J</td>\n",
       "      <td>11391</td>\n",
       "      <td>M</td>\n",
       "      <td>East Anglian Region</td>\n",
       "      <td>HE Qualification</td>\n",
       "      <td>90-100%</td>\n",
       "      <td>55&lt;=</td>\n",
       "      <td>0</td>\n",
       "      <td>240</td>\n",
       "      <td>N</td>\n",
       "      <td>Pass</td>\n",
       "    </tr>\n",
       "    <tr>\n",
       "      <th>1</th>\n",
       "      <td>AAA</td>\n",
       "      <td>2013J</td>\n",
       "      <td>28400</td>\n",
       "      <td>F</td>\n",
       "      <td>Scotland</td>\n",
       "      <td>HE Qualification</td>\n",
       "      <td>20-30%</td>\n",
       "      <td>35-55</td>\n",
       "      <td>0</td>\n",
       "      <td>60</td>\n",
       "      <td>N</td>\n",
       "      <td>Pass</td>\n",
       "    </tr>\n",
       "    <tr>\n",
       "      <th>2</th>\n",
       "      <td>AAA</td>\n",
       "      <td>2013J</td>\n",
       "      <td>30268</td>\n",
       "      <td>F</td>\n",
       "      <td>North Western Region</td>\n",
       "      <td>A Level or Equivalent</td>\n",
       "      <td>30-40%</td>\n",
       "      <td>35-55</td>\n",
       "      <td>0</td>\n",
       "      <td>60</td>\n",
       "      <td>Y</td>\n",
       "      <td>Withdrawn</td>\n",
       "    </tr>\n",
       "    <tr>\n",
       "      <th>3</th>\n",
       "      <td>AAA</td>\n",
       "      <td>2013J</td>\n",
       "      <td>31604</td>\n",
       "      <td>F</td>\n",
       "      <td>South East Region</td>\n",
       "      <td>A Level or Equivalent</td>\n",
       "      <td>50-60%</td>\n",
       "      <td>35-55</td>\n",
       "      <td>0</td>\n",
       "      <td>60</td>\n",
       "      <td>N</td>\n",
       "      <td>Pass</td>\n",
       "    </tr>\n",
       "    <tr>\n",
       "      <th>4</th>\n",
       "      <td>AAA</td>\n",
       "      <td>2013J</td>\n",
       "      <td>32885</td>\n",
       "      <td>F</td>\n",
       "      <td>West Midlands Region</td>\n",
       "      <td>Lower Than A Level</td>\n",
       "      <td>50-60%</td>\n",
       "      <td>0-35</td>\n",
       "      <td>0</td>\n",
       "      <td>60</td>\n",
       "      <td>N</td>\n",
       "      <td>Pass</td>\n",
       "    </tr>\n",
       "  </tbody>\n",
       "</table>\n",
       "</div>"
      ],
      "text/plain": [
       "  code_module code_presentation  id_student gender                region  \\\n",
       "0         AAA             2013J       11391      M   East Anglian Region   \n",
       "1         AAA             2013J       28400      F              Scotland   \n",
       "2         AAA             2013J       30268      F  North Western Region   \n",
       "3         AAA             2013J       31604      F     South East Region   \n",
       "4         AAA             2013J       32885      F  West Midlands Region   \n",
       "\n",
       "       highest_education imd_band age_band  num_of_prev_attempts  \\\n",
       "0       HE Qualification  90-100%     55<=                     0   \n",
       "1       HE Qualification   20-30%    35-55                     0   \n",
       "2  A Level or Equivalent   30-40%    35-55                     0   \n",
       "3  A Level or Equivalent   50-60%    35-55                     0   \n",
       "4     Lower Than A Level   50-60%     0-35                     0   \n",
       "\n",
       "   studied_credits disability final_result  \n",
       "0              240          N         Pass  \n",
       "1               60          N         Pass  \n",
       "2               60          Y    Withdrawn  \n",
       "3               60          N         Pass  \n",
       "4               60          N         Pass  "
      ]
     },
     "execution_count": 34,
     "metadata": {},
     "output_type": "execute_result"
    }
   ],
   "source": [
    "print(student_info.shape)\n",
    "student_info.head()"
   ]
  },
  {
   "cell_type": "code",
   "execution_count": 35,
   "metadata": {},
   "outputs": [
    {
     "data": {
      "text/plain": [
       "code_module                 7\n",
       "code_presentation           4\n",
       "id_student              28785\n",
       "gender                      2\n",
       "region                     13\n",
       "highest_education           5\n",
       "imd_band                   10\n",
       "age_band                    3\n",
       "num_of_prev_attempts        7\n",
       "studied_credits            61\n",
       "disability                  2\n",
       "final_result                4\n",
       "dtype: int64"
      ]
     },
     "execution_count": 35,
     "metadata": {},
     "output_type": "execute_result"
    }
   ],
   "source": [
    "student_info.nunique()"
   ]
  },
  {
   "cell_type": "markdown",
   "metadata": {},
   "source": [
    "U nekim slučajevima valja obrisati kolonu s primarnim identifikatorom, međutim ovdje značajku 'student_id' ne treba brisati jer to nije jedinstveni identifikator zbog toga što je moguće da je isti student upisao više predmeta pa je isti identifikator zapisan više puta."
   ]
  },
  {
   "cell_type": "code",
   "execution_count": 36,
   "metadata": {},
   "outputs": [
    {
     "data": {
      "text/plain": [
       "code_module                0\n",
       "code_presentation          0\n",
       "id_student                 0\n",
       "gender                     0\n",
       "region                     0\n",
       "highest_education          0\n",
       "imd_band                1111\n",
       "age_band                   0\n",
       "num_of_prev_attempts       0\n",
       "studied_credits            0\n",
       "disability                 0\n",
       "final_result               0\n",
       "dtype: int64"
      ]
     },
     "execution_count": 36,
     "metadata": {},
     "output_type": "execute_result"
    }
   ],
   "source": [
    "student_info.isna().sum()"
   ]
  },
  {
   "cell_type": "markdown",
   "metadata": {},
   "source": [
    "Jedina značajka kojoj nedostaju podatci je značajka 'IMD_Band'. U slučaju da se ti podaci pokažu potrebnima u analizi, vjerojatno bi se vrijednosti mogle pronaći iz podataka u regiji u kojoj je student živio i godine u kojoj je polagao predmet. Za sad ćemo tu kolonu zanemariti."
   ]
  },
  {
   "cell_type": "code",
   "execution_count": 37,
   "metadata": {},
   "outputs": [
    {
     "name": "stdout",
     "output_type": "stream",
     "text": [
      "Percentage of male students: 54.84%\n",
      "Percentage of female students: 45.16%\n"
     ]
    },
    {
     "data": {
      "image/png": "[encoded data removed]",
      "text/plain": [
       "<Figure size 640x480 with 1 Axes>"
      ]
     },
     "metadata": {},
     "output_type": "display_data"
    }
   ],
   "source": [
    "male = (student_info.gender == 'M').sum()\n",
    "female = (student_info.gender == 'F').sum()\n",
    "\n",
    "count_genders = {}\n",
    "for gender in (student_info.gender.unique()):\n",
    "    count_genders.update({gender: (student_info.gender == gender).sum()})\n",
    "\n",
    "print(\"Percentage of male students: {:.2f}%\".format((male/(male + female)*100)))\n",
    "print(\"Percentage of female students: {:.2f}%\".format((female/(male + female)*100)))\n",
    "\n",
    "\n",
    "#bar chart representing number of students per gender\n",
    "plt.bar(count_genders.keys(), count_genders.values(), color = ['lightblue', 'red'])\n",
    "plt.xlabel(\"Spol studenata\")\n",
    "plt.ylabel(\"Broj studenata\")\n",
    "plt.title(\"Graf 3.1: Student info\")\n",
    "plt.show()"
   ]
  },
  {
   "cell_type": "markdown",
   "metadata": {},
   "source": [
    "Vidljivo je da je predmete polaže malo više muškaraca nego žena."
   ]
  },
  {
   "cell_type": "code",
   "execution_count": 38,
   "metadata": {},
   "outputs": [
    {
     "data": {
      "text/html": [
       "<div>\n",
       "<style scoped>\n",
       "    .dataframe tbody tr th:only-of-type {\n",
       "        vertical-align: middle;\n",
       "    }\n",
       "\n",
       "    .dataframe tbody tr th {\n",
       "        vertical-align: top;\n",
       "    }\n",
       "\n",
       "    .dataframe thead th {\n",
       "        text-align: right;\n",
       "    }\n",
       "</style>\n",
       "<table border=\"1\" class=\"dataframe\">\n",
       "  <thead>\n",
       "    <tr style=\"text-align: right;\">\n",
       "      <th></th>\n",
       "      <th>id_student</th>\n",
       "      <th>num_of_prev_attempts</th>\n",
       "      <th>studied_credits</th>\n",
       "    </tr>\n",
       "  </thead>\n",
       "  <tbody>\n",
       "    <tr>\n",
       "      <th>count</th>\n",
       "      <td>3.259300e+04</td>\n",
       "      <td>32593.000000</td>\n",
       "      <td>32593.000000</td>\n",
       "    </tr>\n",
       "    <tr>\n",
       "      <th>mean</th>\n",
       "      <td>7.066877e+05</td>\n",
       "      <td>0.163225</td>\n",
       "      <td>79.758691</td>\n",
       "    </tr>\n",
       "    <tr>\n",
       "      <th>std</th>\n",
       "      <td>5.491673e+05</td>\n",
       "      <td>0.479758</td>\n",
       "      <td>41.071900</td>\n",
       "    </tr>\n",
       "    <tr>\n",
       "      <th>min</th>\n",
       "      <td>3.733000e+03</td>\n",
       "      <td>0.000000</td>\n",
       "      <td>30.000000</td>\n",
       "    </tr>\n",
       "    <tr>\n",
       "      <th>25%</th>\n",
       "      <td>5.085730e+05</td>\n",
       "      <td>0.000000</td>\n",
       "      <td>60.000000</td>\n",
       "    </tr>\n",
       "    <tr>\n",
       "      <th>50%</th>\n",
       "      <td>5.903100e+05</td>\n",
       "      <td>0.000000</td>\n",
       "      <td>60.000000</td>\n",
       "    </tr>\n",
       "    <tr>\n",
       "      <th>75%</th>\n",
       "      <td>6.444530e+05</td>\n",
       "      <td>0.000000</td>\n",
       "      <td>120.000000</td>\n",
       "    </tr>\n",
       "    <tr>\n",
       "      <th>max</th>\n",
       "      <td>2.716795e+06</td>\n",
       "      <td>6.000000</td>\n",
       "      <td>655.000000</td>\n",
       "    </tr>\n",
       "  </tbody>\n",
       "</table>\n",
       "</div>"
      ],
      "text/plain": [
       "         id_student  num_of_prev_attempts  studied_credits\n",
       "count  3.259300e+04          32593.000000     32593.000000\n",
       "mean   7.066877e+05              0.163225        79.758691\n",
       "std    5.491673e+05              0.479758        41.071900\n",
       "min    3.733000e+03              0.000000        30.000000\n",
       "25%    5.085730e+05              0.000000        60.000000\n",
       "50%    5.903100e+05              0.000000        60.000000\n",
       "75%    6.444530e+05              0.000000       120.000000\n",
       "max    2.716795e+06              6.000000       655.000000"
      ]
     },
     "execution_count": 38,
     "metadata": {},
     "output_type": "execute_result"
    }
   ],
   "source": [
    "student_info.describe()"
   ]
  },
  {
   "cell_type": "markdown",
   "metadata": {},
   "source": [
    "Ovaj ispis deskriptivne statistike opisuje 3 numeričke varijable. Identifikator nema razloga proučavati jer ne pokazuje nikakvu veličinu, dok za druge dvije značajke valja provjeriti postoji li stršećih vrijednosti. Najbolje vizualizacijom. "
   ]
  },
  {
   "cell_type": "code",
   "execution_count": 39,
   "metadata": {},
   "outputs": [
    {
     "data": {
      "image/png": "[encoded data removed]",
      "text/plain": [
       "<Figure size 640x480 with 1 Axes>"
      ]
     },
     "metadata": {},
     "output_type": "display_data"
    }
   ],
   "source": [
    "#show number of previous attempts for each student that has more than 3 previous attempts\n",
    "plt.scatter(student_info[student_info.num_of_prev_attempts > 3].id_student, student_info[student_info.num_of_prev_attempts > 3].num_of_prev_attempts)\n",
    "plt.xlabel(\"ID studenta\")\n",
    "plt.ylabel(\"Broj prethodnih pokušaja\")\n",
    "plt.title(\"Graf 3.2: Student info\")\n",
    "plt.show()"
   ]
  },
  {
   "cell_type": "markdown",
   "metadata": {},
   "source": [
    "U gornjem grafu (Graf 3.2) vidljivo je da su samo 4 studenta predmet upisivala 6 puta. To bi mogla biti greška odnosno stršeći podatak, a mogla bi biti i posljedica prirodnog događaja pa samo činjenica da ti podaci odskaču od ostalih nije dovoljno jak argument za izbacivanje tih podataka."
   ]
  },
  {
   "cell_type": "code",
   "execution_count": 40,
   "metadata": {},
   "outputs": [
    {
     "data": {
      "image/png": "[encoded data removed]",
      "text/plain": [
       "<Figure size 640x480 with 1 Axes>"
      ]
     },
     "metadata": {},
     "output_type": "display_data"
    }
   ],
   "source": [
    "plt.scatter(student_info.id_student, student_info.studied_credits)\n",
    "plt.xlabel(\"ID studenta\")\n",
    "plt.ylabel(\"Broj ECTS bodova\")\n",
    "plt.title(\"Graf 3.3: Student info\")\n",
    "plt.hlines(xmin = 0, xmax = 3000000, y = 380, linestyles = \"solid\", colors = \"red\")\n",
    "plt.show()"
   ]
  },
  {
   "cell_type": "markdown",
   "metadata": {},
   "source": [
    "Sudeći prema grafu 3.3, opravdano je izbaciti sve zapise koji imaju vrijednost dosad položenih ECTS bodova više od 450.\n",
    "Također, treba zapamtiti sve vrijednosti značajke 'student_id' za zapise koje izbacujemo kako bismo ih mogli izbaciti i iz drugih tablica u kojima se spominju."
   ]
  },
  {
   "cell_type": "code",
   "execution_count": 41,
   "metadata": {},
   "outputs": [],
   "source": [
    "#delete records with studied credits > 450 and print their student id\n",
    "students_to_delete = student_info[student_info.studied_credits > 380]"
   ]
  },
  {
   "cell_type": "code",
   "execution_count": 42,
   "metadata": {},
   "outputs": [
    {
     "data": {
      "text/html": [
       "<div>\n",
       "<style scoped>\n",
       "    .dataframe tbody tr th:only-of-type {\n",
       "        vertical-align: middle;\n",
       "    }\n",
       "\n",
       "    .dataframe tbody tr th {\n",
       "        vertical-align: top;\n",
       "    }\n",
       "\n",
       "    .dataframe thead th {\n",
       "        text-align: right;\n",
       "    }\n",
       "</style>\n",
       "<table border=\"1\" class=\"dataframe\">\n",
       "  <thead>\n",
       "    <tr style=\"text-align: right;\">\n",
       "      <th></th>\n",
       "      <th>id_student</th>\n",
       "      <th>num_of_prev_attempts</th>\n",
       "      <th>studied_credits</th>\n",
       "    </tr>\n",
       "  </thead>\n",
       "  <tbody>\n",
       "    <tr>\n",
       "      <th>count</th>\n",
       "      <td>3.258100e+04</td>\n",
       "      <td>32581.000000</td>\n",
       "      <td>32581.000000</td>\n",
       "    </tr>\n",
       "    <tr>\n",
       "      <th>mean</th>\n",
       "      <td>7.067820e+05</td>\n",
       "      <td>0.163163</td>\n",
       "      <td>79.625395</td>\n",
       "    </tr>\n",
       "    <tr>\n",
       "      <th>std</th>\n",
       "      <td>5.492057e+05</td>\n",
       "      <td>0.479686</td>\n",
       "      <td>40.390191</td>\n",
       "    </tr>\n",
       "    <tr>\n",
       "      <th>min</th>\n",
       "      <td>3.733000e+03</td>\n",
       "      <td>0.000000</td>\n",
       "      <td>30.000000</td>\n",
       "    </tr>\n",
       "    <tr>\n",
       "      <th>25%</th>\n",
       "      <td>5.086150e+05</td>\n",
       "      <td>0.000000</td>\n",
       "      <td>60.000000</td>\n",
       "    </tr>\n",
       "    <tr>\n",
       "      <th>50%</th>\n",
       "      <td>5.903600e+05</td>\n",
       "      <td>0.000000</td>\n",
       "      <td>60.000000</td>\n",
       "    </tr>\n",
       "    <tr>\n",
       "      <th>75%</th>\n",
       "      <td>6.444700e+05</td>\n",
       "      <td>0.000000</td>\n",
       "      <td>120.000000</td>\n",
       "    </tr>\n",
       "    <tr>\n",
       "      <th>max</th>\n",
       "      <td>2.716795e+06</td>\n",
       "      <td>6.000000</td>\n",
       "      <td>370.000000</td>\n",
       "    </tr>\n",
       "  </tbody>\n",
       "</table>\n",
       "</div>"
      ],
      "text/plain": [
       "         id_student  num_of_prev_attempts  studied_credits\n",
       "count  3.258100e+04          32581.000000     32581.000000\n",
       "mean   7.067820e+05              0.163163        79.625395\n",
       "std    5.492057e+05              0.479686        40.390191\n",
       "min    3.733000e+03              0.000000        30.000000\n",
       "25%    5.086150e+05              0.000000        60.000000\n",
       "50%    5.903600e+05              0.000000        60.000000\n",
       "75%    6.444700e+05              0.000000       120.000000\n",
       "max    2.716795e+06              6.000000       370.000000"
      ]
     },
     "execution_count": 42,
     "metadata": {},
     "output_type": "execute_result"
    }
   ],
   "source": [
    "student_info = student_info[~student_info.id_student.isin(students_to_delete.id_student)]\n",
    "student_info.describe()"
   ]
  },
  {
   "cell_type": "code",
   "execution_count": 43,
   "metadata": {},
   "outputs": [
    {
     "data": {
      "image/png": "[encoded data removed]",
      "text/plain": [
       "<Figure size 640x480 with 1 Axes>"
      ]
     },
     "metadata": {},
     "output_type": "display_data"
    }
   ],
   "source": [
    "plt.scatter(student_info.id_student, student_info.studied_credits)\n",
    "plt.xlabel(\"ID studenta\")\n",
    "plt.ylabel(\"Broj ECTS bodova\")\n",
    "plt.title(\"Graf 3.4: Student info\")\n",
    "plt.show()"
   ]
  },
  {
   "cell_type": "code",
   "execution_count": 44,
   "metadata": {},
   "outputs": [
    {
     "data": {
      "image/png": "[encoded data removed]",
      "text/plain": [
       "<Figure size 1500x1000 with 1 Axes>"
      ]
     },
     "metadata": {},
     "output_type": "display_data"
    }
   ],
   "source": [
    "#count how many students are in each region\n",
    "count_per_region = student_info.groupby('region').count().loc[:,'id_student'].values\n",
    "count_per_region\n",
    "#bar chart with numbers of students per region\n",
    "figure = plt.figure(figsize=(15, 10))\n",
    "plt.bar(student_info.region.unique(), count_per_region, color = \"skyblue\")\n",
    "plt.xticks(rotation=45, ha='right')\n",
    "plt.show()"
   ]
  },
  {
   "cell_type": "markdown",
   "metadata": {},
   "source": [
    "Još jedan zanimljiv prikaz je graf podjele studenata po regijama. Vidljivo je da su manje-više sve jednako zastupljene."
   ]
  },
  {
   "cell_type": "markdown",
   "metadata": {},
   "source": [
    "# 2. REPLIKACIJA REZULTATA"
   ]
  },
  {
   "cell_type": "markdown",
   "metadata": {},
   "source": [
    "Problem je klasifikaciji - pokušava unaprijed identificirati studente koji bi mogli pasti studij ili odustati od njega. Cilj je te studente unaprijed upozoriti. U pitanju je multivarijantna klasifikacija jer su oznake iz skupa {Odustao/la, Pad, Prolaz, Izvrsni prolaz}."
   ]
  },
  {
   "cell_type": "code",
   "execution_count": 45,
   "metadata": {},
   "outputs": [
    {
     "name": "stdout",
     "output_type": "stream",
     "text": [
      "<class 'pandas.core.frame.DataFrame'>\n",
      "Index: 32581 entries, 0 to 32592\n",
      "Data columns (total 12 columns):\n",
      " #   Column                Non-Null Count  Dtype \n",
      "---  ------                --------------  ----- \n",
      " 0   code_module           32581 non-null  object\n",
      " 1   code_presentation     32581 non-null  object\n",
      " 2   id_student            32581 non-null  int64 \n",
      " 3   gender                32581 non-null  object\n",
      " 4   region                32581 non-null  object\n",
      " 5   highest_education     32581 non-null  object\n",
      " 6   imd_band              31471 non-null  object\n",
      " 7   age_band              32581 non-null  object\n",
      " 8   num_of_prev_attempts  32581 non-null  int64 \n",
      " 9   studied_credits       32581 non-null  int64 \n",
      " 10  disability            32581 non-null  object\n",
      " 11  final_result          32581 non-null  object\n",
      "dtypes: int64(3), object(9)\n",
      "memory usage: 3.2+ MB\n"
     ]
    }
   ],
   "source": [
    "student_info.info()"
   ]
  },
  {
   "cell_type": "code",
   "execution_count": 46,
   "metadata": {},
   "outputs": [
    {
     "data": {
      "text/plain": [
       "code_module                 7\n",
       "code_presentation           4\n",
       "id_student              28775\n",
       "gender                      2\n",
       "region                     13\n",
       "highest_education           5\n",
       "imd_band                   10\n",
       "age_band                    3\n",
       "num_of_prev_attempts        7\n",
       "studied_credits            52\n",
       "disability                  2\n",
       "final_result                4\n",
       "dtype: int64"
      ]
     },
     "execution_count": 46,
     "metadata": {},
     "output_type": "execute_result"
    }
   ],
   "source": [
    "student_info.nunique()"
   ]
  },
  {
   "cell_type": "code",
   "execution_count": 47,
   "metadata": {},
   "outputs": [
    {
     "data": {
      "text/plain": [
       "code_module                0\n",
       "code_presentation          0\n",
       "id_student                 0\n",
       "gender                     0\n",
       "region                     0\n",
       "highest_education          0\n",
       "imd_band                1110\n",
       "age_band                   0\n",
       "num_of_prev_attempts       0\n",
       "studied_credits            0\n",
       "disability                 0\n",
       "final_result               0\n",
       "dtype: int64"
      ]
     },
     "execution_count": 47,
     "metadata": {},
     "output_type": "execute_result"
    }
   ],
   "source": [
    "student_info.isna().sum()"
   ]
  },
  {
   "cell_type": "markdown",
   "metadata": {},
   "source": [
    "U istraživanju je sudjelovalo 32593 studenata, od njih 55% muškaraca i 45% žena. Pohađali su 7 različitih predmeta preko platforme Virtual Learning Environment (VLE)."
   ]
  },
  {
   "cell_type": "code",
   "execution_count": 48,
   "metadata": {},
   "outputs": [
    {
     "data": {
      "image/png": "[encoded data removed]",
      "text/plain": [
       "<Figure size 1200x600 with 1 Axes>"
      ]
     },
     "metadata": {},
     "output_type": "display_data"
    }
   ],
   "source": [
    "plt.figure(figsize=(12, 6))\n",
    "bars = plt.barh(student_info.final_result.unique(), student_info['final_result'].value_counts().values, color = ['lightblue', 'red', 'green', 'orange'])\n",
    "plt.xlabel(\"Broj studenata\")\n",
    "plt.ylabel(\"Konačni rezultat\")\n",
    "for bar in bars:\n",
    "    xval = bar.get_width()\n",
    "    plt.text(xval, bar.get_y() + bar.get_height()/2, f'{xval}', ha='left', va='center')\n",
    "\n",
    "plt.title(\"Distribucija konačnih rezultata\")\n",
    "plt.show()"
   ]
  },
  {
   "cell_type": "code",
   "execution_count": 49,
   "metadata": {},
   "outputs": [
    {
     "data": {
      "text/html": [
       "<div>\n",
       "<style scoped>\n",
       "    .dataframe tbody tr th:only-of-type {\n",
       "        vertical-align: middle;\n",
       "    }\n",
       "\n",
       "    .dataframe tbody tr th {\n",
       "        vertical-align: top;\n",
       "    }\n",
       "\n",
       "    .dataframe thead th {\n",
       "        text-align: right;\n",
       "    }\n",
       "</style>\n",
       "<table border=\"1\" class=\"dataframe\">\n",
       "  <thead>\n",
       "    <tr style=\"text-align: right;\">\n",
       "      <th></th>\n",
       "      <th>code_module</th>\n",
       "      <th>code_presentation</th>\n",
       "      <th>id_student</th>\n",
       "      <th>id_site</th>\n",
       "      <th>date</th>\n",
       "      <th>sum_click</th>\n",
       "    </tr>\n",
       "  </thead>\n",
       "  <tbody>\n",
       "    <tr>\n",
       "      <th>0</th>\n",
       "      <td>AAA</td>\n",
       "      <td>2013J</td>\n",
       "      <td>28400</td>\n",
       "      <td>546652</td>\n",
       "      <td>-10</td>\n",
       "      <td>4</td>\n",
       "    </tr>\n",
       "    <tr>\n",
       "      <th>1</th>\n",
       "      <td>AAA</td>\n",
       "      <td>2013J</td>\n",
       "      <td>28400</td>\n",
       "      <td>546652</td>\n",
       "      <td>-10</td>\n",
       "      <td>1</td>\n",
       "    </tr>\n",
       "    <tr>\n",
       "      <th>2</th>\n",
       "      <td>AAA</td>\n",
       "      <td>2013J</td>\n",
       "      <td>28400</td>\n",
       "      <td>546652</td>\n",
       "      <td>-10</td>\n",
       "      <td>1</td>\n",
       "    </tr>\n",
       "    <tr>\n",
       "      <th>3</th>\n",
       "      <td>AAA</td>\n",
       "      <td>2013J</td>\n",
       "      <td>28400</td>\n",
       "      <td>546614</td>\n",
       "      <td>-10</td>\n",
       "      <td>11</td>\n",
       "    </tr>\n",
       "    <tr>\n",
       "      <th>4</th>\n",
       "      <td>AAA</td>\n",
       "      <td>2013J</td>\n",
       "      <td>28400</td>\n",
       "      <td>546714</td>\n",
       "      <td>-10</td>\n",
       "      <td>1</td>\n",
       "    </tr>\n",
       "  </tbody>\n",
       "</table>\n",
       "</div>"
      ],
      "text/plain": [
       "  code_module code_presentation  id_student  id_site  date  sum_click\n",
       "0         AAA             2013J       28400   546652   -10          4\n",
       "1         AAA             2013J       28400   546652   -10          1\n",
       "2         AAA             2013J       28400   546652   -10          1\n",
       "3         AAA             2013J       28400   546614   -10         11\n",
       "4         AAA             2013J       28400   546714   -10          1"
      ]
     },
     "execution_count": 49,
     "metadata": {},
     "output_type": "execute_result"
    }
   ],
   "source": [
    "student_vle.head()"
   ]
  },
  {
   "cell_type": "code",
   "execution_count": 50,
   "metadata": {},
   "outputs": [],
   "source": [
    "no_of_registered_students = student_info.groupby('code_module')['id_student'].count()\n"
   ]
  },
  {
   "cell_type": "code",
   "execution_count": 51,
   "metadata": {},
   "outputs": [
    {
     "name": "stdout",
     "output_type": "stream",
     "text": [
      "code_module\n",
      "AAA     747\n",
      "BBB    7905\n",
      "CCC    4431\n",
      "DDD    6270\n",
      "EEE    2934\n",
      "FFF    7760\n",
      "GGG    2534\n",
      "Name: id_student, dtype: int64\n"
     ]
    }
   ],
   "source": [
    "print(no_of_registered_students)"
   ]
  },
  {
   "cell_type": "code",
   "execution_count": 52,
   "metadata": {},
   "outputs": [
    {
     "data": {
      "text/html": [
       "<div>\n",
       "<style scoped>\n",
       "    .dataframe tbody tr th:only-of-type {\n",
       "        vertical-align: middle;\n",
       "    }\n",
       "\n",
       "    .dataframe tbody tr th {\n",
       "        vertical-align: top;\n",
       "    }\n",
       "\n",
       "    .dataframe thead th {\n",
       "        text-align: right;\n",
       "    }\n",
       "</style>\n",
       "<table border=\"1\" class=\"dataframe\">\n",
       "  <thead>\n",
       "    <tr style=\"text-align: right;\">\n",
       "      <th></th>\n",
       "      <th>id_site</th>\n",
       "      <th>code_module</th>\n",
       "      <th>code_presentation</th>\n",
       "      <th>activity_type</th>\n",
       "      <th>week_from</th>\n",
       "      <th>week_to</th>\n",
       "    </tr>\n",
       "  </thead>\n",
       "  <tbody>\n",
       "    <tr>\n",
       "      <th>0</th>\n",
       "      <td>546943</td>\n",
       "      <td>AAA</td>\n",
       "      <td>2013J</td>\n",
       "      <td>resource</td>\n",
       "      <td>NaN</td>\n",
       "      <td>NaN</td>\n",
       "    </tr>\n",
       "    <tr>\n",
       "      <th>1</th>\n",
       "      <td>546712</td>\n",
       "      <td>AAA</td>\n",
       "      <td>2013J</td>\n",
       "      <td>oucontent</td>\n",
       "      <td>NaN</td>\n",
       "      <td>NaN</td>\n",
       "    </tr>\n",
       "    <tr>\n",
       "      <th>2</th>\n",
       "      <td>546998</td>\n",
       "      <td>AAA</td>\n",
       "      <td>2013J</td>\n",
       "      <td>resource</td>\n",
       "      <td>NaN</td>\n",
       "      <td>NaN</td>\n",
       "    </tr>\n",
       "    <tr>\n",
       "      <th>3</th>\n",
       "      <td>546888</td>\n",
       "      <td>AAA</td>\n",
       "      <td>2013J</td>\n",
       "      <td>url</td>\n",
       "      <td>NaN</td>\n",
       "      <td>NaN</td>\n",
       "    </tr>\n",
       "    <tr>\n",
       "      <th>4</th>\n",
       "      <td>547035</td>\n",
       "      <td>AAA</td>\n",
       "      <td>2013J</td>\n",
       "      <td>resource</td>\n",
       "      <td>NaN</td>\n",
       "      <td>NaN</td>\n",
       "    </tr>\n",
       "  </tbody>\n",
       "</table>\n",
       "</div>"
      ],
      "text/plain": [
       "   id_site code_module code_presentation activity_type  week_from  week_to\n",
       "0   546943         AAA             2013J      resource        NaN      NaN\n",
       "1   546712         AAA             2013J     oucontent        NaN      NaN\n",
       "2   546998         AAA             2013J      resource        NaN      NaN\n",
       "3   546888         AAA             2013J           url        NaN      NaN\n",
       "4   547035         AAA             2013J      resource        NaN      NaN"
      ]
     },
     "execution_count": 52,
     "metadata": {},
     "output_type": "execute_result"
    }
   ],
   "source": [
    "vle.head()"
   ]
  },
  {
   "cell_type": "code",
   "execution_count": 53,
   "metadata": {},
   "outputs": [
    {
     "data": {
      "text/html": [
       "<div>\n",
       "<style scoped>\n",
       "    .dataframe tbody tr th:only-of-type {\n",
       "        vertical-align: middle;\n",
       "    }\n",
       "\n",
       "    .dataframe tbody tr th {\n",
       "        vertical-align: top;\n",
       "    }\n",
       "\n",
       "    .dataframe thead th {\n",
       "        text-align: right;\n",
       "    }\n",
       "</style>\n",
       "<table border=\"1\" class=\"dataframe\">\n",
       "  <thead>\n",
       "    <tr style=\"text-align: right;\">\n",
       "      <th></th>\n",
       "      <th>code_module</th>\n",
       "      <th>code_presentation</th>\n",
       "      <th>id_assessment</th>\n",
       "      <th>assessment_type</th>\n",
       "      <th>date</th>\n",
       "      <th>weight</th>\n",
       "    </tr>\n",
       "  </thead>\n",
       "  <tbody>\n",
       "    <tr>\n",
       "      <th>0</th>\n",
       "      <td>AAA</td>\n",
       "      <td>2013J</td>\n",
       "      <td>1752</td>\n",
       "      <td>TMA</td>\n",
       "      <td>19.0</td>\n",
       "      <td>10.0</td>\n",
       "    </tr>\n",
       "    <tr>\n",
       "      <th>1</th>\n",
       "      <td>AAA</td>\n",
       "      <td>2013J</td>\n",
       "      <td>1753</td>\n",
       "      <td>TMA</td>\n",
       "      <td>54.0</td>\n",
       "      <td>20.0</td>\n",
       "    </tr>\n",
       "    <tr>\n",
       "      <th>2</th>\n",
       "      <td>AAA</td>\n",
       "      <td>2013J</td>\n",
       "      <td>1754</td>\n",
       "      <td>TMA</td>\n",
       "      <td>117.0</td>\n",
       "      <td>20.0</td>\n",
       "    </tr>\n",
       "    <tr>\n",
       "      <th>3</th>\n",
       "      <td>AAA</td>\n",
       "      <td>2013J</td>\n",
       "      <td>1755</td>\n",
       "      <td>TMA</td>\n",
       "      <td>166.0</td>\n",
       "      <td>20.0</td>\n",
       "    </tr>\n",
       "    <tr>\n",
       "      <th>4</th>\n",
       "      <td>AAA</td>\n",
       "      <td>2013J</td>\n",
       "      <td>1756</td>\n",
       "      <td>TMA</td>\n",
       "      <td>215.0</td>\n",
       "      <td>30.0</td>\n",
       "    </tr>\n",
       "  </tbody>\n",
       "</table>\n",
       "</div>"
      ],
      "text/plain": [
       "  code_module code_presentation  id_assessment assessment_type   date  weight\n",
       "0         AAA             2013J           1752             TMA   19.0    10.0\n",
       "1         AAA             2013J           1753             TMA   54.0    20.0\n",
       "2         AAA             2013J           1754             TMA  117.0    20.0\n",
       "3         AAA             2013J           1755             TMA  166.0    20.0\n",
       "4         AAA             2013J           1756             TMA  215.0    30.0"
      ]
     },
     "execution_count": 53,
     "metadata": {},
     "output_type": "execute_result"
    }
   ],
   "source": [
    "assessments.head()"
   ]
  },
  {
   "cell_type": "code",
   "execution_count": 54,
   "metadata": {},
   "outputs": [
    {
     "name": "stdout",
     "output_type": "stream",
     "text": [
      "code_module\n",
      "AAA    19.0\n",
      "BBB    12.0\n",
      "CCC    18.0\n",
      "DDD    20.0\n",
      "EEE    33.0\n",
      "FFF    19.0\n",
      "GGG    61.0\n",
      "Name: date, dtype: float64\n"
     ]
    }
   ],
   "source": [
    "earliest_assessment_dates = assessments.groupby('code_module')['date'].min()\n",
    "print(earliest_assessment_dates)\n"
   ]
  },
  {
   "cell_type": "code",
   "execution_count": 55,
   "metadata": {},
   "outputs": [],
   "source": [
    "code_module_runs = courses.groupby('code_module')['code_presentation'].unique()"
   ]
  },
  {
   "cell_type": "code",
   "execution_count": 56,
   "metadata": {},
   "outputs": [
    {
     "name": "stdout",
     "output_type": "stream",
     "text": [
      "code_module\n",
      "AAA                  [2013J, 2014J]\n",
      "BBB    [2013J, 2014J, 2013B, 2014B]\n",
      "CCC                  [2014J, 2014B]\n",
      "DDD    [2013J, 2014J, 2013B, 2014B]\n",
      "EEE           [2013J, 2014J, 2014B]\n",
      "FFF    [2013J, 2014J, 2013B, 2014B]\n",
      "GGG           [2013J, 2014J, 2014B]\n",
      "Name: code_presentation, dtype: object\n"
     ]
    }
   ],
   "source": [
    "print(code_module_runs)"
   ]
  },
  {
   "cell_type": "code",
   "execution_count": 57,
   "metadata": {},
   "outputs": [],
   "source": [
    "for i in range(7):\n",
    "    code_module_runs[i] = \"2013 & 2014\"\n",
    "code_module_runs[2] = \"2014\""
   ]
  },
  {
   "cell_type": "code",
   "execution_count": 58,
   "metadata": {},
   "outputs": [],
   "source": [
    "mooc_info = pd.merge(pd.merge(earliest_assessment_dates, no_of_registered_students, on='code_module'), code_module_runs, on='code_module')\n",
    "mooc_info = mooc_info.rename(columns={'code_module': 'course'})\n",
    "\n",
    "for i in range(7):\n",
    "    mooc_info.date[i] = \"Day \" + str(round(mooc_info.date[i]))\n"
   ]
  },
  {
   "cell_type": "code",
   "execution_count": 59,
   "metadata": {},
   "outputs": [
    {
     "name": "stdout",
     "output_type": "stream",
     "text": [
      "               date  id_student code_presentation\n",
      "code_module                                      \n",
      "AAA          Day 19         747       2013 & 2014\n",
      "BBB          Day 12        7905       2013 & 2014\n",
      "CCC          Day 18        4431              2014\n",
      "DDD          Day 20        6270       2013 & 2014\n",
      "EEE          Day 33        2934       2013 & 2014\n",
      "FFF          Day 19        7760       2013 & 2014\n",
      "GGG          Day 61        2534       2013 & 2014\n"
     ]
    }
   ],
   "source": [
    "print(mooc_info)"
   ]
  },
  {
   "cell_type": "code",
   "execution_count": 60,
   "metadata": {},
   "outputs": [
    {
     "data": {
      "text/html": [
       "<div>\n",
       "<style scoped>\n",
       "    .dataframe tbody tr th:only-of-type {\n",
       "        vertical-align: middle;\n",
       "    }\n",
       "\n",
       "    .dataframe tbody tr th {\n",
       "        vertical-align: top;\n",
       "    }\n",
       "\n",
       "    .dataframe thead th {\n",
       "        text-align: right;\n",
       "    }\n",
       "</style>\n",
       "<table border=\"1\" class=\"dataframe\">\n",
       "  <thead>\n",
       "    <tr style=\"text-align: right;\">\n",
       "      <th></th>\n",
       "      <th>code_module</th>\n",
       "      <th>code_presentation</th>\n",
       "      <th>id_student</th>\n",
       "      <th>id_site</th>\n",
       "      <th>date</th>\n",
       "      <th>sum_click</th>\n",
       "    </tr>\n",
       "  </thead>\n",
       "  <tbody>\n",
       "    <tr>\n",
       "      <th>0</th>\n",
       "      <td>AAA</td>\n",
       "      <td>2013J</td>\n",
       "      <td>28400</td>\n",
       "      <td>546652</td>\n",
       "      <td>-10</td>\n",
       "      <td>4</td>\n",
       "    </tr>\n",
       "    <tr>\n",
       "      <th>1</th>\n",
       "      <td>AAA</td>\n",
       "      <td>2013J</td>\n",
       "      <td>28400</td>\n",
       "      <td>546652</td>\n",
       "      <td>-10</td>\n",
       "      <td>1</td>\n",
       "    </tr>\n",
       "    <tr>\n",
       "      <th>2</th>\n",
       "      <td>AAA</td>\n",
       "      <td>2013J</td>\n",
       "      <td>28400</td>\n",
       "      <td>546652</td>\n",
       "      <td>-10</td>\n",
       "      <td>1</td>\n",
       "    </tr>\n",
       "    <tr>\n",
       "      <th>3</th>\n",
       "      <td>AAA</td>\n",
       "      <td>2013J</td>\n",
       "      <td>28400</td>\n",
       "      <td>546614</td>\n",
       "      <td>-10</td>\n",
       "      <td>11</td>\n",
       "    </tr>\n",
       "    <tr>\n",
       "      <th>4</th>\n",
       "      <td>AAA</td>\n",
       "      <td>2013J</td>\n",
       "      <td>28400</td>\n",
       "      <td>546714</td>\n",
       "      <td>-10</td>\n",
       "      <td>1</td>\n",
       "    </tr>\n",
       "  </tbody>\n",
       "</table>\n",
       "</div>"
      ],
      "text/plain": [
       "  code_module code_presentation  id_student  id_site  date  sum_click\n",
       "0         AAA             2013J       28400   546652   -10          4\n",
       "1         AAA             2013J       28400   546652   -10          1\n",
       "2         AAA             2013J       28400   546652   -10          1\n",
       "3         AAA             2013J       28400   546614   -10         11\n",
       "4         AAA             2013J       28400   546714   -10          1"
      ]
     },
     "execution_count": 60,
     "metadata": {},
     "output_type": "execute_result"
    }
   ],
   "source": [
    "student_vle.head()"
   ]
  },
  {
   "cell_type": "markdown",
   "metadata": {},
   "source": [
    "• **First Assignment Mark:** Ocjena studenta na prvom zadatku iz predmeta, značajka \"score\" u datoteci StudentsAssessments.csv.\n",
    "\n",
    "• **Educational Level:** Najviša razina obrazovanja studenta prije upisivanja ovog studija. To je značajka \"highest_education\" u datoteci \"StudentInfo.csv\", 4 vrijednosti te značajke su: \"Lower than A level\", \"A level or equivalent\", \"HE Qualification\" i \"Post Graduate Qualification\".\n",
    "\n",
    "• **Clicks till Course Starts:** Broj klikova koje je student napravio prije početka predmeta. To je značajka \"sum_click\" u datoteci \"StudentVle.csv\".\n",
    "\n",
    "• **Registration Date:** Broj dana od početka predavanja do registracije studenta. To je značajka \"date_registration\" u datoteci \"StudentRegistration.csv\".\n",
    "\n",
    "• **Age:** Raspon godina u kojemu se student nalazi. To je značajka \"age_band\" i moguće vrijednosti te značajke su 0-35, 35-55, >55. Ta značajka se nalazi u datoteci \"StudentInfo.csv\".\n",
    "\n",
    "• **Disability:** Informacija o tome ima li student neku poteškoću. Navedeno u datoteci \"StudentInfo.csv\" pod imenom \"disability\".\n",
    "\n",
    "• **Gender:** Spol studenta, zapisano u datoteci \"StudentInfo.csv\" pod imenom \"gender\".\n",
    "\n",
    "• **Previous Attempts:** Broj puta koliko je student pao određeni predmet. Zapisano u značajki \"num_of_pred_attempts\" u datoteci \"StudentInfo.csv\"."
   ]
  },
  {
   "cell_type": "code",
   "execution_count": 61,
   "metadata": {},
   "outputs": [],
   "source": [
    "import scipy.stats"
   ]
  },
  {
   "cell_type": "markdown",
   "metadata": {},
   "source": [
    "Pearsonov chi-kvadrat test je statistički test koji provjerava ovisnost dviju varijabli. Nulta pretpostavka je da su varijable nezavisne, a ako je p-vrijednost dovoljno mala (manja od 0.05), onda možemo odbaciti tu pretpostavku i zaključiti da postoji veza među njima."
   ]
  },
  {
   "cell_type": "code",
   "execution_count": 62,
   "metadata": {},
   "outputs": [],
   "source": [
    "def chi2_test(table, variable_name):\n",
    "    stat, p, dof, expected = scipy.stats.chi2_contingency(table)\n",
    "\n",
    "    print(f\"Chi-squared test for {variable_name}:\")\n",
    "    print(f\"  p-value = {p}\")\n",
    "    print(\"\\n\")"
   ]
  },
  {
   "cell_type": "code",
   "execution_count": 63,
   "metadata": {},
   "outputs": [
    {
     "data": {
      "text/plain": [
       "0"
      ]
     },
     "execution_count": 63,
     "metadata": {},
     "output_type": "execute_result"
    }
   ],
   "source": [
    "student_info['highest_education'].isna().sum()"
   ]
  },
  {
   "cell_type": "code",
   "execution_count": 64,
   "metadata": {},
   "outputs": [],
   "source": [
    "contingency_table_education = pd.crosstab(student_info['highest_education'], student_info['final_result'])\n",
    "contingency_table_age = pd.crosstab(student_info['age_band'], student_info['final_result'])\n",
    "contingency_table_gender = pd.crosstab(student_info['gender'], student_info['final_result'])\n",
    "contingency_table_disability = pd.crosstab(student_info['disability'], student_info['final_result'])\n"
   ]
  },
  {
   "cell_type": "code",
   "execution_count": 65,
   "metadata": {},
   "outputs": [
    {
     "name": "stdout",
     "output_type": "stream",
     "text": [
      "Chi-squared test for Highest education:\n",
      "  p-value = 1.9711654049219626e-211\n",
      "\n",
      "\n",
      "Chi-squared test for Age:\n",
      "  p-value = 2.980324895746476e-45\n",
      "\n",
      "\n",
      "Chi-squared test for Gender:\n",
      "  p-value = 0.0008042859487564865\n",
      "\n",
      "\n",
      "Chi-squared test for Disability:\n",
      "  p-value = 6.949509054380835e-30\n",
      "\n",
      "\n"
     ]
    }
   ],
   "source": [
    "chi2_test(contingency_table_education, \"Highest education\")\n",
    "chi2_test(contingency_table_age, \"Age\")\n",
    "chi2_test(contingency_table_gender, \"Gender\")\n",
    "chi2_test(contingency_table_disability, \"Disability\")"
   ]
  },
  {
   "cell_type": "markdown",
   "metadata": {},
   "source": [
    "Možemo vidjeti da su p-vrijednosti za sve varijable značajno manje od 0.05 pa zaključujem da o svima njima ovisi izlazna vrijednost."
   ]
  },
  {
   "cell_type": "markdown",
   "metadata": {},
   "source": [
    "Kako bismo vidjeli međusobnu ovisnost značajki, provodimo Pearsonov korelacijski test."
   ]
  },
  {
   "cell_type": "code",
   "execution_count": 66,
   "metadata": {},
   "outputs": [
    {
     "data": {
      "text/plain": [
       "array(['HE Qualification', 'A Level or Equivalent', 'Lower Than A Level',\n",
       "       'Post Graduate Qualification', 'No Formal quals'], dtype=object)"
      ]
     },
     "execution_count": 66,
     "metadata": {},
     "output_type": "execute_result"
    }
   ],
   "source": [
    "student_info['highest_education'].unique()"
   ]
  },
  {
   "cell_type": "code",
   "execution_count": 67,
   "metadata": {},
   "outputs": [],
   "source": [
    "student_info['gender'] = student_info['gender'].map({'F': 0.0, 'M': 1.0})\n",
    "student_info['highest_education'] = student_info['highest_education'].map({'HE Qualification': 0.0, 'Lower Than A Level': 1.0, 'A Level or Equivalent': 2.0, 'Post Graduate Qualification': 3.0, 'No Formal quals': 4.0})\n",
    "student_info['age_band'] = student_info['age_band'].map({'0-35': 0.0, \"35-55\": 1.0, \"55<=\": 2.0})\n",
    "student_info['disability'] = student_info['disability'].map({'N': 0, 'Y': 1.0})"
   ]
  },
  {
   "cell_type": "code",
   "execution_count": 68,
   "metadata": {},
   "outputs": [
    {
     "data": {
      "text/plain": [
       "code_module              7\n",
       "code_presentation        4\n",
       "id_student           26074\n",
       "id_site               6268\n",
       "date                   295\n",
       "sum_click              498\n",
       "dtype: int64"
      ]
     },
     "execution_count": 68,
     "metadata": {},
     "output_type": "execute_result"
    }
   ],
   "source": [
    "student_vle.nunique()"
   ]
  },
  {
   "cell_type": "code",
   "execution_count": 69,
   "metadata": {},
   "outputs": [],
   "source": [
    "student_assessment_avg = student_assessment.groupby('id_student')['score'].mean().reset_index()\n",
    "\n",
    "student_vle_total = student_vle[student_vle['date'] < 0].groupby('id_student')['sum_click'].sum().reset_index()"
   ]
  },
  {
   "cell_type": "code",
   "execution_count": 70,
   "metadata": {},
   "outputs": [
    {
     "name": "stdout",
     "output_type": "stream",
     "text": [
      "<class 'pandas.core.frame.DataFrame'>\n",
      "RangeIndex: 26074 entries, 0 to 26073\n",
      "Data columns (total 2 columns):\n",
      " #   Column      Non-Null Count  Dtype\n",
      "---  ------      --------------  -----\n",
      " 0   id_student  26074 non-null  int64\n",
      " 1   sum_click   26074 non-null  int64\n",
      "dtypes: int64(2)\n",
      "memory usage: 407.5 KB\n"
     ]
    }
   ],
   "source": [
    "missing_student_ids = set(student_vle['id_student']) - set(student_vle_total['id_student'])\n",
    "missing_students = pd.DataFrame({'id_student': list(missing_student_ids), 'sum_click': 0})\n",
    "student_vle_total = pd.concat([student_vle_total, missing_students], ignore_index=True)\n",
    "student_vle_total.info()"
   ]
  },
  {
   "cell_type": "code",
   "execution_count": 71,
   "metadata": {},
   "outputs": [],
   "source": [
    "merged_data = student_info.merge(student_assessment_avg, on='id_student', how='left')\n",
    "merged_data = merged_data[~merged_data.score.isna()]\n",
    "\n",
    "merged_data = merged_data.merge(student_vle_total, on='id_student', how='left')\n",
    "merged_data = merged_data[~merged_data.sum_click.isna()]\n",
    "\n",
    "merged_data = merged_data.merge(student_registration[['id_student', 'date_registration']], on='id_student', how='left')\n",
    "merged_data = merged_data[~merged_data.date_registration.isna()]\n",
    "\n",
    "merged_data['registration_date_numeric'] = pd.to_numeric(merged_data['date_registration'], errors='coerce')\n"
   ]
  },
  {
   "cell_type": "code",
   "execution_count": 72,
   "metadata": {},
   "outputs": [
    {
     "data": {
      "text/plain": [
       "code_module                     0\n",
       "code_presentation               0\n",
       "id_student                      0\n",
       "gender                          0\n",
       "region                          0\n",
       "highest_education               0\n",
       "imd_band                     1286\n",
       "age_band                        0\n",
       "num_of_prev_attempts            0\n",
       "studied_credits                 0\n",
       "disability                      0\n",
       "final_result                    0\n",
       "score                           0\n",
       "sum_click                       0\n",
       "date_registration               0\n",
       "registration_date_numeric       0\n",
       "dtype: int64"
      ]
     },
     "execution_count": 72,
     "metadata": {},
     "output_type": "execute_result"
    }
   ],
   "source": [
    "merged_data.isna().sum()"
   ]
  },
  {
   "cell_type": "code",
   "execution_count": 73,
   "metadata": {},
   "outputs": [
    {
     "name": "stdout",
     "output_type": "stream",
     "text": [
      "                        gender  highest_education  age_band  \\\n",
      "gender                1.000000          -0.026548 -0.025443   \n",
      "highest_education    -0.026548           1.000000 -0.128950   \n",
      "age_band             -0.025443          -0.128950  1.000000   \n",
      "num_of_prev_attempts -0.031521           0.007626  0.015983   \n",
      "disability           -0.048859           0.026174 -0.026325   \n",
      "score                -0.009976          -0.002292  0.078674   \n",
      "date_registration    -0.021514          -0.024789  0.020978   \n",
      "sum_click             0.091156          -0.022030  0.120706   \n",
      "\n",
      "                      num_of_prev_attempts  disability     score  \\\n",
      "gender                           -0.031521   -0.048859 -0.009976   \n",
      "highest_education                 0.007626    0.026174 -0.002292   \n",
      "age_band                          0.015983   -0.026325  0.078674   \n",
      "num_of_prev_attempts              1.000000    0.078798 -0.094830   \n",
      "disability                        0.078798    1.000000 -0.059452   \n",
      "score                            -0.094830   -0.059452  1.000000   \n",
      "date_registration                -0.026531   -0.010676  0.021968   \n",
      "sum_click                        -0.007611    0.023760  0.157927   \n",
      "\n",
      "                      date_registration  sum_click  \n",
      "gender                        -0.021514   0.091156  \n",
      "highest_education             -0.024789  -0.022030  \n",
      "age_band                       0.020978   0.120706  \n",
      "num_of_prev_attempts          -0.026531  -0.007611  \n",
      "disability                    -0.010676   0.023760  \n",
      "score                          0.021968   0.157927  \n",
      "date_registration              1.000000  -0.102133  \n",
      "sum_click                     -0.102133   1.000000  \n"
     ]
    }
   ],
   "source": [
    "znacajke = merged_data[['gender', 'highest_education', 'age_band', 'num_of_prev_attempts', 'disability', 'score', 'date_registration', 'sum_click']]\n",
    "corr_matrix = znacajke.corr(method='pearson')\n",
    "\n",
    "print(corr_matrix)"
   ]
  },
  {
   "cell_type": "code",
   "execution_count": 74,
   "metadata": {},
   "outputs": [
    {
     "name": "stdout",
     "output_type": "stream",
     "text": [
      "1.0 \n",
      "-0.03 1.0 \n",
      "-0.03 -0.13 1.0 \n",
      "-0.03 0.01 0.02 1.0 \n",
      "-0.05 0.03 -0.03 0.08 1.0 \n",
      "-0.01 -0.0 0.08 -0.09 -0.06 1.0 \n",
      "-0.02 -0.02 0.02 -0.03 -0.01 0.02 1.0 \n",
      "0.09 -0.02 0.12 -0.01 0.02 0.16 -0.1 1.0 \n"
     ]
    }
   ],
   "source": [
    "import numpy as np\n",
    "\n",
    "# Extract the lower triangular part of the correlation matrix\n",
    "lower_triangular = np.tril(corr_matrix)\n",
    "\n",
    "# Print the lower triangular matrix\n",
    "for i in  range (len(lower_triangular)):\n",
    "    for j in range (i+1):\n",
    "        print(round(lower_triangular[i][j], 2), end=\" \")\n",
    "    print()\n",
    "\n"
   ]
  },
  {
   "cell_type": "markdown",
   "metadata": {},
   "source": [
    "Iz gornjeg ispisa možemo vidjeti da varijable jako jako malo međusobno koreliraju pa to znači da možemo koristiti robusnije i algoritme boljih performansi na ovim podacima.\n",
    "Varijable koje ćemo koristiti u predikciji krajnjeg rezultata studenata su: *First Assignment Mark, Educational Level, Clicks till Course Starts, Registration date, Age, and Gender*.\n",
    "70% podataka koristimo za treniranje, a 30% za testiranje modela."
   ]
  },
  {
   "cell_type": "code",
   "execution_count": 75,
   "metadata": {},
   "outputs": [
    {
     "data": {
      "text/html": [
       "<div>\n",
       "<style scoped>\n",
       "    .dataframe tbody tr th:only-of-type {\n",
       "        vertical-align: middle;\n",
       "    }\n",
       "\n",
       "    .dataframe tbody tr th {\n",
       "        vertical-align: top;\n",
       "    }\n",
       "\n",
       "    .dataframe thead th {\n",
       "        text-align: right;\n",
       "    }\n",
       "</style>\n",
       "<table border=\"1\" class=\"dataframe\">\n",
       "  <thead>\n",
       "    <tr style=\"text-align: right;\">\n",
       "      <th></th>\n",
       "      <th>code_module</th>\n",
       "      <th>code_presentation</th>\n",
       "      <th>id_student</th>\n",
       "      <th>gender</th>\n",
       "      <th>region</th>\n",
       "      <th>highest_education</th>\n",
       "      <th>imd_band</th>\n",
       "      <th>age_band</th>\n",
       "      <th>num_of_prev_attempts</th>\n",
       "      <th>studied_credits</th>\n",
       "      <th>disability</th>\n",
       "      <th>final_result</th>\n",
       "      <th>score</th>\n",
       "      <th>sum_click</th>\n",
       "      <th>date_registration</th>\n",
       "      <th>registration_date_numeric</th>\n",
       "    </tr>\n",
       "  </thead>\n",
       "  <tbody>\n",
       "    <tr>\n",
       "      <th>0</th>\n",
       "      <td>AAA</td>\n",
       "      <td>2013J</td>\n",
       "      <td>11391</td>\n",
       "      <td>1.0</td>\n",
       "      <td>East Anglian Region</td>\n",
       "      <td>0.0</td>\n",
       "      <td>90-100%</td>\n",
       "      <td>2.0</td>\n",
       "      <td>0</td>\n",
       "      <td>240</td>\n",
       "      <td>0.0</td>\n",
       "      <td>Pass</td>\n",
       "      <td>82.0</td>\n",
       "      <td>98.0</td>\n",
       "      <td>-159.0</td>\n",
       "      <td>-159.0</td>\n",
       "    </tr>\n",
       "    <tr>\n",
       "      <th>1</th>\n",
       "      <td>AAA</td>\n",
       "      <td>2013J</td>\n",
       "      <td>28400</td>\n",
       "      <td>0.0</td>\n",
       "      <td>Scotland</td>\n",
       "      <td>0.0</td>\n",
       "      <td>20-30%</td>\n",
       "      <td>1.0</td>\n",
       "      <td>0</td>\n",
       "      <td>60</td>\n",
       "      <td>0.0</td>\n",
       "      <td>Pass</td>\n",
       "      <td>66.4</td>\n",
       "      <td>215.0</td>\n",
       "      <td>-53.0</td>\n",
       "      <td>-53.0</td>\n",
       "    </tr>\n",
       "    <tr>\n",
       "      <th>2</th>\n",
       "      <td>AAA</td>\n",
       "      <td>2013J</td>\n",
       "      <td>31604</td>\n",
       "      <td>0.0</td>\n",
       "      <td>South East Region</td>\n",
       "      <td>2.0</td>\n",
       "      <td>50-60%</td>\n",
       "      <td>1.0</td>\n",
       "      <td>0</td>\n",
       "      <td>60</td>\n",
       "      <td>0.0</td>\n",
       "      <td>Pass</td>\n",
       "      <td>76.0</td>\n",
       "      <td>169.0</td>\n",
       "      <td>-52.0</td>\n",
       "      <td>-52.0</td>\n",
       "    </tr>\n",
       "    <tr>\n",
       "      <th>3</th>\n",
       "      <td>AAA</td>\n",
       "      <td>2013J</td>\n",
       "      <td>32885</td>\n",
       "      <td>0.0</td>\n",
       "      <td>West Midlands Region</td>\n",
       "      <td>1.0</td>\n",
       "      <td>50-60%</td>\n",
       "      <td>0.0</td>\n",
       "      <td>0</td>\n",
       "      <td>60</td>\n",
       "      <td>0.0</td>\n",
       "      <td>Pass</td>\n",
       "      <td>54.4</td>\n",
       "      <td>295.0</td>\n",
       "      <td>-176.0</td>\n",
       "      <td>-176.0</td>\n",
       "    </tr>\n",
       "    <tr>\n",
       "      <th>4</th>\n",
       "      <td>AAA</td>\n",
       "      <td>2013J</td>\n",
       "      <td>38053</td>\n",
       "      <td>1.0</td>\n",
       "      <td>Wales</td>\n",
       "      <td>2.0</td>\n",
       "      <td>80-90%</td>\n",
       "      <td>1.0</td>\n",
       "      <td>0</td>\n",
       "      <td>60</td>\n",
       "      <td>0.0</td>\n",
       "      <td>Pass</td>\n",
       "      <td>68.0</td>\n",
       "      <td>277.0</td>\n",
       "      <td>-110.0</td>\n",
       "      <td>-110.0</td>\n",
       "    </tr>\n",
       "  </tbody>\n",
       "</table>\n",
       "</div>"
      ],
      "text/plain": [
       "  code_module code_presentation  id_student  gender                region  \\\n",
       "0         AAA             2013J       11391     1.0   East Anglian Region   \n",
       "1         AAA             2013J       28400     0.0              Scotland   \n",
       "2         AAA             2013J       31604     0.0     South East Region   \n",
       "3         AAA             2013J       32885     0.0  West Midlands Region   \n",
       "4         AAA             2013J       38053     1.0                 Wales   \n",
       "\n",
       "   highest_education imd_band  age_band  num_of_prev_attempts  \\\n",
       "0                0.0  90-100%       2.0                     0   \n",
       "1                0.0   20-30%       1.0                     0   \n",
       "2                2.0   50-60%       1.0                     0   \n",
       "3                1.0   50-60%       0.0                     0   \n",
       "4                2.0   80-90%       1.0                     0   \n",
       "\n",
       "   studied_credits  disability final_result  score  sum_click  \\\n",
       "0              240         0.0         Pass   82.0       98.0   \n",
       "1               60         0.0         Pass   66.4      215.0   \n",
       "2               60         0.0         Pass   76.0      169.0   \n",
       "3               60         0.0         Pass   54.4      295.0   \n",
       "4               60         0.0         Pass   68.0      277.0   \n",
       "\n",
       "   date_registration  registration_date_numeric  \n",
       "0             -159.0                     -159.0  \n",
       "1              -53.0                      -53.0  \n",
       "2              -52.0                      -52.0  \n",
       "3             -176.0                     -176.0  \n",
       "4             -110.0                     -110.0  "
      ]
     },
     "execution_count": 75,
     "metadata": {},
     "output_type": "execute_result"
    }
   ],
   "source": [
    "merged_data.head()"
   ]
  },
  {
   "cell_type": "markdown",
   "metadata": {},
   "source": [
    "## 1. STABLO ODLUKE"
   ]
  },
  {
   "cell_type": "code",
   "execution_count": 76,
   "metadata": {},
   "outputs": [],
   "source": [
    "sorted_data = student_assessment.sort_values(by='date_submitted')\n",
    "first_assignment_marks = sorted_data.groupby('id_student').first().reset_index()\n",
    "#drop rows with nan values\n",
    "first_assignment_marks = first_assignment_marks[~first_assignment_marks.score.isna()]\n",
    "first_assignment_marks.rename(columns={'score': 'first_assignment_mark'}, inplace=True)"
   ]
  },
  {
   "cell_type": "code",
   "execution_count": 77,
   "metadata": {},
   "outputs": [
    {
     "data": {
      "text/html": [
       "<div>\n",
       "<style scoped>\n",
       "    .dataframe tbody tr th:only-of-type {\n",
       "        vertical-align: middle;\n",
       "    }\n",
       "\n",
       "    .dataframe tbody tr th {\n",
       "        vertical-align: top;\n",
       "    }\n",
       "\n",
       "    .dataframe thead th {\n",
       "        text-align: right;\n",
       "    }\n",
       "</style>\n",
       "<table border=\"1\" class=\"dataframe\">\n",
       "  <thead>\n",
       "    <tr style=\"text-align: right;\">\n",
       "      <th></th>\n",
       "      <th>id_student</th>\n",
       "      <th>id_assessment</th>\n",
       "      <th>date_submitted</th>\n",
       "      <th>is_banked</th>\n",
       "      <th>first_assignment_mark</th>\n",
       "    </tr>\n",
       "  </thead>\n",
       "  <tbody>\n",
       "    <tr>\n",
       "      <th>0</th>\n",
       "      <td>6516</td>\n",
       "      <td>1758</td>\n",
       "      <td>17</td>\n",
       "      <td>0</td>\n",
       "      <td>60.0</td>\n",
       "    </tr>\n",
       "    <tr>\n",
       "      <th>1</th>\n",
       "      <td>8462</td>\n",
       "      <td>25362</td>\n",
       "      <td>-1</td>\n",
       "      <td>1</td>\n",
       "      <td>93.0</td>\n",
       "    </tr>\n",
       "    <tr>\n",
       "      <th>2</th>\n",
       "      <td>11391</td>\n",
       "      <td>1752</td>\n",
       "      <td>18</td>\n",
       "      <td>0</td>\n",
       "      <td>78.0</td>\n",
       "    </tr>\n",
       "    <tr>\n",
       "      <th>3</th>\n",
       "      <td>23629</td>\n",
       "      <td>14984</td>\n",
       "      <td>9</td>\n",
       "      <td>0</td>\n",
       "      <td>67.0</td>\n",
       "    </tr>\n",
       "    <tr>\n",
       "      <th>4</th>\n",
       "      <td>23698</td>\n",
       "      <td>24295</td>\n",
       "      <td>21</td>\n",
       "      <td>0</td>\n",
       "      <td>78.0</td>\n",
       "    </tr>\n",
       "    <tr>\n",
       "      <th>...</th>\n",
       "      <td>...</td>\n",
       "      <td>...</td>\n",
       "      <td>...</td>\n",
       "      <td>...</td>\n",
       "      <td>...</td>\n",
       "    </tr>\n",
       "    <tr>\n",
       "      <th>23364</th>\n",
       "      <td>2698251</td>\n",
       "      <td>25355</td>\n",
       "      <td>15</td>\n",
       "      <td>0</td>\n",
       "      <td>69.0</td>\n",
       "    </tr>\n",
       "    <tr>\n",
       "      <th>23365</th>\n",
       "      <td>2698257</td>\n",
       "      <td>1752</td>\n",
       "      <td>22</td>\n",
       "      <td>0</td>\n",
       "      <td>58.0</td>\n",
       "    </tr>\n",
       "    <tr>\n",
       "      <th>23366</th>\n",
       "      <td>2698535</td>\n",
       "      <td>24286</td>\n",
       "      <td>20</td>\n",
       "      <td>0</td>\n",
       "      <td>20.0</td>\n",
       "    </tr>\n",
       "    <tr>\n",
       "      <th>23367</th>\n",
       "      <td>2698577</td>\n",
       "      <td>15020</td>\n",
       "      <td>19</td>\n",
       "      <td>0</td>\n",
       "      <td>100.0</td>\n",
       "    </tr>\n",
       "    <tr>\n",
       "      <th>23368</th>\n",
       "      <td>2698588</td>\n",
       "      <td>15020</td>\n",
       "      <td>18</td>\n",
       "      <td>0</td>\n",
       "      <td>100.0</td>\n",
       "    </tr>\n",
       "  </tbody>\n",
       "</table>\n",
       "<p>23351 rows × 5 columns</p>\n",
       "</div>"
      ],
      "text/plain": [
       "       id_student  id_assessment  date_submitted  is_banked  \\\n",
       "0            6516           1758              17          0   \n",
       "1            8462          25362              -1          1   \n",
       "2           11391           1752              18          0   \n",
       "3           23629          14984               9          0   \n",
       "4           23698          24295              21          0   \n",
       "...           ...            ...             ...        ...   \n",
       "23364     2698251          25355              15          0   \n",
       "23365     2698257           1752              22          0   \n",
       "23366     2698535          24286              20          0   \n",
       "23367     2698577          15020              19          0   \n",
       "23368     2698588          15020              18          0   \n",
       "\n",
       "       first_assignment_mark  \n",
       "0                       60.0  \n",
       "1                       93.0  \n",
       "2                       78.0  \n",
       "3                       67.0  \n",
       "4                       78.0  \n",
       "...                      ...  \n",
       "23364                   69.0  \n",
       "23365                   58.0  \n",
       "23366                   20.0  \n",
       "23367                  100.0  \n",
       "23368                  100.0  \n",
       "\n",
       "[23351 rows x 5 columns]"
      ]
     },
     "execution_count": 77,
     "metadata": {},
     "output_type": "execute_result"
    }
   ],
   "source": [
    "first_assignment_marks"
   ]
  },
  {
   "cell_type": "code",
   "execution_count": 78,
   "metadata": {},
   "outputs": [],
   "source": [
    "first_assignment_marks = pd.merge(first_assignment_marks, assessments[['id_assessment', 'code_module', 'code_presentation']], on='id_assessment', how='left')"
   ]
  },
  {
   "cell_type": "code",
   "execution_count": 79,
   "metadata": {},
   "outputs": [
    {
     "data": {
      "text/html": [
       "<div>\n",
       "<style scoped>\n",
       "    .dataframe tbody tr th:only-of-type {\n",
       "        vertical-align: middle;\n",
       "    }\n",
       "\n",
       "    .dataframe tbody tr th {\n",
       "        vertical-align: top;\n",
       "    }\n",
       "\n",
       "    .dataframe thead th {\n",
       "        text-align: right;\n",
       "    }\n",
       "</style>\n",
       "<table border=\"1\" class=\"dataframe\">\n",
       "  <thead>\n",
       "    <tr style=\"text-align: right;\">\n",
       "      <th></th>\n",
       "      <th>id_student</th>\n",
       "      <th>id_assessment</th>\n",
       "      <th>date_submitted</th>\n",
       "      <th>is_banked</th>\n",
       "      <th>first_assignment_mark</th>\n",
       "      <th>code_module</th>\n",
       "      <th>code_presentation</th>\n",
       "    </tr>\n",
       "  </thead>\n",
       "  <tbody>\n",
       "    <tr>\n",
       "      <th>0</th>\n",
       "      <td>6516</td>\n",
       "      <td>1758</td>\n",
       "      <td>17</td>\n",
       "      <td>0</td>\n",
       "      <td>60.0</td>\n",
       "      <td>AAA</td>\n",
       "      <td>2014J</td>\n",
       "    </tr>\n",
       "    <tr>\n",
       "      <th>1</th>\n",
       "      <td>8462</td>\n",
       "      <td>25362</td>\n",
       "      <td>-1</td>\n",
       "      <td>1</td>\n",
       "      <td>93.0</td>\n",
       "      <td>DDD</td>\n",
       "      <td>2014J</td>\n",
       "    </tr>\n",
       "    <tr>\n",
       "      <th>2</th>\n",
       "      <td>11391</td>\n",
       "      <td>1752</td>\n",
       "      <td>18</td>\n",
       "      <td>0</td>\n",
       "      <td>78.0</td>\n",
       "      <td>AAA</td>\n",
       "      <td>2013J</td>\n",
       "    </tr>\n",
       "    <tr>\n",
       "      <th>3</th>\n",
       "      <td>23629</td>\n",
       "      <td>14984</td>\n",
       "      <td>9</td>\n",
       "      <td>0</td>\n",
       "      <td>67.0</td>\n",
       "      <td>BBB</td>\n",
       "      <td>2013B</td>\n",
       "    </tr>\n",
       "    <tr>\n",
       "      <th>4</th>\n",
       "      <td>23698</td>\n",
       "      <td>24295</td>\n",
       "      <td>21</td>\n",
       "      <td>0</td>\n",
       "      <td>78.0</td>\n",
       "      <td>CCC</td>\n",
       "      <td>2014J</td>\n",
       "    </tr>\n",
       "    <tr>\n",
       "      <th>...</th>\n",
       "      <td>...</td>\n",
       "      <td>...</td>\n",
       "      <td>...</td>\n",
       "      <td>...</td>\n",
       "      <td>...</td>\n",
       "      <td>...</td>\n",
       "      <td>...</td>\n",
       "    </tr>\n",
       "    <tr>\n",
       "      <th>23346</th>\n",
       "      <td>2698251</td>\n",
       "      <td>25355</td>\n",
       "      <td>15</td>\n",
       "      <td>0</td>\n",
       "      <td>69.0</td>\n",
       "      <td>DDD</td>\n",
       "      <td>2014B</td>\n",
       "    </tr>\n",
       "    <tr>\n",
       "      <th>23347</th>\n",
       "      <td>2698257</td>\n",
       "      <td>1752</td>\n",
       "      <td>22</td>\n",
       "      <td>0</td>\n",
       "      <td>58.0</td>\n",
       "      <td>AAA</td>\n",
       "      <td>2013J</td>\n",
       "    </tr>\n",
       "    <tr>\n",
       "      <th>23348</th>\n",
       "      <td>2698535</td>\n",
       "      <td>24286</td>\n",
       "      <td>20</td>\n",
       "      <td>0</td>\n",
       "      <td>20.0</td>\n",
       "      <td>CCC</td>\n",
       "      <td>2014B</td>\n",
       "    </tr>\n",
       "    <tr>\n",
       "      <th>23349</th>\n",
       "      <td>2698577</td>\n",
       "      <td>15020</td>\n",
       "      <td>19</td>\n",
       "      <td>0</td>\n",
       "      <td>100.0</td>\n",
       "      <td>BBB</td>\n",
       "      <td>2014J</td>\n",
       "    </tr>\n",
       "    <tr>\n",
       "      <th>23350</th>\n",
       "      <td>2698588</td>\n",
       "      <td>15020</td>\n",
       "      <td>18</td>\n",
       "      <td>0</td>\n",
       "      <td>100.0</td>\n",
       "      <td>BBB</td>\n",
       "      <td>2014J</td>\n",
       "    </tr>\n",
       "  </tbody>\n",
       "</table>\n",
       "<p>23351 rows × 7 columns</p>\n",
       "</div>"
      ],
      "text/plain": [
       "       id_student  id_assessment  date_submitted  is_banked  \\\n",
       "0            6516           1758              17          0   \n",
       "1            8462          25362              -1          1   \n",
       "2           11391           1752              18          0   \n",
       "3           23629          14984               9          0   \n",
       "4           23698          24295              21          0   \n",
       "...           ...            ...             ...        ...   \n",
       "23346     2698251          25355              15          0   \n",
       "23347     2698257           1752              22          0   \n",
       "23348     2698535          24286              20          0   \n",
       "23349     2698577          15020              19          0   \n",
       "23350     2698588          15020              18          0   \n",
       "\n",
       "       first_assignment_mark code_module code_presentation  \n",
       "0                       60.0         AAA             2014J  \n",
       "1                       93.0         DDD             2014J  \n",
       "2                       78.0         AAA             2013J  \n",
       "3                       67.0         BBB             2013B  \n",
       "4                       78.0         CCC             2014J  \n",
       "...                      ...         ...               ...  \n",
       "23346                   69.0         DDD             2014B  \n",
       "23347                   58.0         AAA             2013J  \n",
       "23348                   20.0         CCC             2014B  \n",
       "23349                  100.0         BBB             2014J  \n",
       "23350                  100.0         BBB             2014J  \n",
       "\n",
       "[23351 rows x 7 columns]"
      ]
     },
     "execution_count": 79,
     "metadata": {},
     "output_type": "execute_result"
    }
   ],
   "source": [
    "first_assignment_marks"
   ]
  },
  {
   "cell_type": "code",
   "execution_count": 80,
   "metadata": {},
   "outputs": [
    {
     "data": {
      "text/html": [
       "<div>\n",
       "<style scoped>\n",
       "    .dataframe tbody tr th:only-of-type {\n",
       "        vertical-align: middle;\n",
       "    }\n",
       "\n",
       "    .dataframe tbody tr th {\n",
       "        vertical-align: top;\n",
       "    }\n",
       "\n",
       "    .dataframe thead th {\n",
       "        text-align: right;\n",
       "    }\n",
       "</style>\n",
       "<table border=\"1\" class=\"dataframe\">\n",
       "  <thead>\n",
       "    <tr style=\"text-align: right;\">\n",
       "      <th></th>\n",
       "      <th>code_module</th>\n",
       "      <th>code_presentation</th>\n",
       "      <th>id_student</th>\n",
       "      <th>gender</th>\n",
       "      <th>region</th>\n",
       "      <th>highest_education</th>\n",
       "      <th>imd_band</th>\n",
       "      <th>age_band</th>\n",
       "      <th>num_of_prev_attempts</th>\n",
       "      <th>studied_credits</th>\n",
       "      <th>disability</th>\n",
       "      <th>final_result</th>\n",
       "      <th>score</th>\n",
       "      <th>sum_click</th>\n",
       "      <th>date_registration</th>\n",
       "      <th>registration_date_numeric</th>\n",
       "    </tr>\n",
       "  </thead>\n",
       "  <tbody>\n",
       "    <tr>\n",
       "      <th>0</th>\n",
       "      <td>AAA</td>\n",
       "      <td>2013J</td>\n",
       "      <td>11391</td>\n",
       "      <td>1.0</td>\n",
       "      <td>East Anglian Region</td>\n",
       "      <td>0.0</td>\n",
       "      <td>90-100%</td>\n",
       "      <td>2.0</td>\n",
       "      <td>0</td>\n",
       "      <td>240</td>\n",
       "      <td>0.0</td>\n",
       "      <td>Pass</td>\n",
       "      <td>82.000000</td>\n",
       "      <td>98.0</td>\n",
       "      <td>-159.0</td>\n",
       "      <td>-159.0</td>\n",
       "    </tr>\n",
       "    <tr>\n",
       "      <th>1</th>\n",
       "      <td>AAA</td>\n",
       "      <td>2013J</td>\n",
       "      <td>28400</td>\n",
       "      <td>0.0</td>\n",
       "      <td>Scotland</td>\n",
       "      <td>0.0</td>\n",
       "      <td>20-30%</td>\n",
       "      <td>1.0</td>\n",
       "      <td>0</td>\n",
       "      <td>60</td>\n",
       "      <td>0.0</td>\n",
       "      <td>Pass</td>\n",
       "      <td>66.400000</td>\n",
       "      <td>215.0</td>\n",
       "      <td>-53.0</td>\n",
       "      <td>-53.0</td>\n",
       "    </tr>\n",
       "    <tr>\n",
       "      <th>2</th>\n",
       "      <td>AAA</td>\n",
       "      <td>2013J</td>\n",
       "      <td>31604</td>\n",
       "      <td>0.0</td>\n",
       "      <td>South East Region</td>\n",
       "      <td>2.0</td>\n",
       "      <td>50-60%</td>\n",
       "      <td>1.0</td>\n",
       "      <td>0</td>\n",
       "      <td>60</td>\n",
       "      <td>0.0</td>\n",
       "      <td>Pass</td>\n",
       "      <td>76.000000</td>\n",
       "      <td>169.0</td>\n",
       "      <td>-52.0</td>\n",
       "      <td>-52.0</td>\n",
       "    </tr>\n",
       "    <tr>\n",
       "      <th>3</th>\n",
       "      <td>AAA</td>\n",
       "      <td>2013J</td>\n",
       "      <td>32885</td>\n",
       "      <td>0.0</td>\n",
       "      <td>West Midlands Region</td>\n",
       "      <td>1.0</td>\n",
       "      <td>50-60%</td>\n",
       "      <td>0.0</td>\n",
       "      <td>0</td>\n",
       "      <td>60</td>\n",
       "      <td>0.0</td>\n",
       "      <td>Pass</td>\n",
       "      <td>54.400000</td>\n",
       "      <td>295.0</td>\n",
       "      <td>-176.0</td>\n",
       "      <td>-176.0</td>\n",
       "    </tr>\n",
       "    <tr>\n",
       "      <th>4</th>\n",
       "      <td>AAA</td>\n",
       "      <td>2013J</td>\n",
       "      <td>38053</td>\n",
       "      <td>1.0</td>\n",
       "      <td>Wales</td>\n",
       "      <td>2.0</td>\n",
       "      <td>80-90%</td>\n",
       "      <td>1.0</td>\n",
       "      <td>0</td>\n",
       "      <td>60</td>\n",
       "      <td>0.0</td>\n",
       "      <td>Pass</td>\n",
       "      <td>68.000000</td>\n",
       "      <td>277.0</td>\n",
       "      <td>-110.0</td>\n",
       "      <td>-110.0</td>\n",
       "    </tr>\n",
       "    <tr>\n",
       "      <th>...</th>\n",
       "      <td>...</td>\n",
       "      <td>...</td>\n",
       "      <td>...</td>\n",
       "      <td>...</td>\n",
       "      <td>...</td>\n",
       "      <td>...</td>\n",
       "      <td>...</td>\n",
       "      <td>...</td>\n",
       "      <td>...</td>\n",
       "      <td>...</td>\n",
       "      <td>...</td>\n",
       "      <td>...</td>\n",
       "      <td>...</td>\n",
       "      <td>...</td>\n",
       "      <td>...</td>\n",
       "      <td>...</td>\n",
       "    </tr>\n",
       "    <tr>\n",
       "      <th>33974</th>\n",
       "      <td>GGG</td>\n",
       "      <td>2014J</td>\n",
       "      <td>2620947</td>\n",
       "      <td>0.0</td>\n",
       "      <td>Scotland</td>\n",
       "      <td>2.0</td>\n",
       "      <td>80-90%</td>\n",
       "      <td>0.0</td>\n",
       "      <td>0</td>\n",
       "      <td>30</td>\n",
       "      <td>1.0</td>\n",
       "      <td>Distinction</td>\n",
       "      <td>88.888889</td>\n",
       "      <td>7.0</td>\n",
       "      <td>-23.0</td>\n",
       "      <td>-23.0</td>\n",
       "    </tr>\n",
       "    <tr>\n",
       "      <th>33975</th>\n",
       "      <td>GGG</td>\n",
       "      <td>2014J</td>\n",
       "      <td>2645731</td>\n",
       "      <td>0.0</td>\n",
       "      <td>East Anglian Region</td>\n",
       "      <td>1.0</td>\n",
       "      <td>40-50%</td>\n",
       "      <td>1.0</td>\n",
       "      <td>0</td>\n",
       "      <td>30</td>\n",
       "      <td>0.0</td>\n",
       "      <td>Distinction</td>\n",
       "      <td>88.111111</td>\n",
       "      <td>0.0</td>\n",
       "      <td>-23.0</td>\n",
       "      <td>-23.0</td>\n",
       "    </tr>\n",
       "    <tr>\n",
       "      <th>33976</th>\n",
       "      <td>GGG</td>\n",
       "      <td>2014J</td>\n",
       "      <td>2648187</td>\n",
       "      <td>0.0</td>\n",
       "      <td>South Region</td>\n",
       "      <td>2.0</td>\n",
       "      <td>20-30%</td>\n",
       "      <td>0.0</td>\n",
       "      <td>0</td>\n",
       "      <td>30</td>\n",
       "      <td>1.0</td>\n",
       "      <td>Pass</td>\n",
       "      <td>76.666667</td>\n",
       "      <td>15.0</td>\n",
       "      <td>-129.0</td>\n",
       "      <td>-129.0</td>\n",
       "    </tr>\n",
       "    <tr>\n",
       "      <th>33977</th>\n",
       "      <td>GGG</td>\n",
       "      <td>2014J</td>\n",
       "      <td>2679821</td>\n",
       "      <td>0.0</td>\n",
       "      <td>South East Region</td>\n",
       "      <td>1.0</td>\n",
       "      <td>90-100%</td>\n",
       "      <td>1.0</td>\n",
       "      <td>0</td>\n",
       "      <td>30</td>\n",
       "      <td>0.0</td>\n",
       "      <td>Withdrawn</td>\n",
       "      <td>91.500000</td>\n",
       "      <td>65.0</td>\n",
       "      <td>-49.0</td>\n",
       "      <td>-49.0</td>\n",
       "    </tr>\n",
       "    <tr>\n",
       "      <th>33978</th>\n",
       "      <td>GGG</td>\n",
       "      <td>2014J</td>\n",
       "      <td>2684003</td>\n",
       "      <td>0.0</td>\n",
       "      <td>Yorkshire Region</td>\n",
       "      <td>0.0</td>\n",
       "      <td>50-60%</td>\n",
       "      <td>1.0</td>\n",
       "      <td>0</td>\n",
       "      <td>30</td>\n",
       "      <td>0.0</td>\n",
       "      <td>Distinction</td>\n",
       "      <td>82.857143</td>\n",
       "      <td>115.0</td>\n",
       "      <td>-28.0</td>\n",
       "      <td>-28.0</td>\n",
       "    </tr>\n",
       "  </tbody>\n",
       "</table>\n",
       "<p>33961 rows × 16 columns</p>\n",
       "</div>"
      ],
      "text/plain": [
       "      code_module code_presentation  id_student  gender                region  \\\n",
       "0             AAA             2013J       11391     1.0   East Anglian Region   \n",
       "1             AAA             2013J       28400     0.0              Scotland   \n",
       "2             AAA             2013J       31604     0.0     South East Region   \n",
       "3             AAA             2013J       32885     0.0  West Midlands Region   \n",
       "4             AAA             2013J       38053     1.0                 Wales   \n",
       "...           ...               ...         ...     ...                   ...   \n",
       "33974         GGG             2014J     2620947     0.0              Scotland   \n",
       "33975         GGG             2014J     2645731     0.0   East Anglian Region   \n",
       "33976         GGG             2014J     2648187     0.0          South Region   \n",
       "33977         GGG             2014J     2679821     0.0     South East Region   \n",
       "33978         GGG             2014J     2684003     0.0      Yorkshire Region   \n",
       "\n",
       "       highest_education imd_band  age_band  num_of_prev_attempts  \\\n",
       "0                    0.0  90-100%       2.0                     0   \n",
       "1                    0.0   20-30%       1.0                     0   \n",
       "2                    2.0   50-60%       1.0                     0   \n",
       "3                    1.0   50-60%       0.0                     0   \n",
       "4                    2.0   80-90%       1.0                     0   \n",
       "...                  ...      ...       ...                   ...   \n",
       "33974                2.0   80-90%       0.0                     0   \n",
       "33975                1.0   40-50%       1.0                     0   \n",
       "33976                2.0   20-30%       0.0                     0   \n",
       "33977                1.0  90-100%       1.0                     0   \n",
       "33978                0.0   50-60%       1.0                     0   \n",
       "\n",
       "       studied_credits  disability final_result      score  sum_click  \\\n",
       "0                  240         0.0         Pass  82.000000       98.0   \n",
       "1                   60         0.0         Pass  66.400000      215.0   \n",
       "2                   60         0.0         Pass  76.000000      169.0   \n",
       "3                   60         0.0         Pass  54.400000      295.0   \n",
       "4                   60         0.0         Pass  68.000000      277.0   \n",
       "...                ...         ...          ...        ...        ...   \n",
       "33974               30         1.0  Distinction  88.888889        7.0   \n",
       "33975               30         0.0  Distinction  88.111111        0.0   \n",
       "33976               30         1.0         Pass  76.666667       15.0   \n",
       "33977               30         0.0    Withdrawn  91.500000       65.0   \n",
       "33978               30         0.0  Distinction  82.857143      115.0   \n",
       "\n",
       "       date_registration  registration_date_numeric  \n",
       "0                 -159.0                     -159.0  \n",
       "1                  -53.0                      -53.0  \n",
       "2                  -52.0                      -52.0  \n",
       "3                 -176.0                     -176.0  \n",
       "4                 -110.0                     -110.0  \n",
       "...                  ...                        ...  \n",
       "33974              -23.0                      -23.0  \n",
       "33975              -23.0                      -23.0  \n",
       "33976             -129.0                     -129.0  \n",
       "33977              -49.0                      -49.0  \n",
       "33978              -28.0                      -28.0  \n",
       "\n",
       "[33961 rows x 16 columns]"
      ]
     },
     "execution_count": 80,
     "metadata": {},
     "output_type": "execute_result"
    }
   ],
   "source": [
    "merged_data"
   ]
  },
  {
   "cell_type": "code",
   "execution_count": 81,
   "metadata": {},
   "outputs": [],
   "source": [
    "\n",
    "\n",
    "combined_df = pd.merge(merged_data, first_assignment_marks[['id_student', 'code_module', 'code_presentation', 'first_assignment_mark']], \n",
    "                       on=['id_student', 'code_module', 'code_presentation'], how='inner')"
   ]
  },
  {
   "cell_type": "code",
   "execution_count": 82,
   "metadata": {},
   "outputs": [
    {
     "name": "stdout",
     "output_type": "stream",
     "text": [
      "Class:  Withdrawn\n",
      "Precision: 0.6721111352063468\n",
      "F1: 0.6966143884064886\n",
      "Recall: 0.7248657424753341\n",
      "Accuracy: 0.7248657424753341\n",
      "\n",
      "Class:  Fail\n",
      "Precision: 0.7377234273184513\n",
      "F1: 0.7367741907421833\n",
      "Recall: 0.7358561258898464\n",
      "Accuracy: 0.7358561258898464\n",
      "\n",
      "Class:  Pass\n",
      "Precision: 0.6523019838807109\n",
      "F1: 0.652243852756206\n",
      "Recall: 0.6528037966779068\n",
      "Accuracy: 0.6528037966779068\n",
      "\n",
      "Class:  Distinction\n",
      "Precision: 0.7760006212589179\n",
      "F1: 0.7369014550600389\n",
      "Recall: 0.7032596478081679\n",
      "Accuracy: 0.7032596478081679\n",
      "\n"
     ]
    }
   ],
   "source": [
    "from sklearn.tree import DecisionTreeClassifier\n",
    "from sklearn.model_selection import train_test_split\n",
    "from sklearn.metrics import accuracy_score, f1_score, precision_score, recall_score\n",
    "\n",
    "X = combined_df[['score', 'highest_education', 'sum_click', 'date_registration', 'age_band', 'gender', 'first_assignment_mark']]\n",
    "y = pd.get_dummies(combined_df['final_result'])\n",
    "\n",
    "X_train_tree, X_test_tree, y_train_tree, y_test_tree = train_test_split(X, y, test_size=0.3, random_state=42)\n",
    "\n",
    "clf = DecisionTreeClassifier()\n",
    "\n",
    "clf.fit(X_train_tree, y_train_tree)\n",
    "\n",
    "y_pred = clf.predict(X_test_tree)\n",
    "y_values = [\"Withdrawn\", \"Fail\", \"Pass\", \"Distinction\"]\n",
    "\n",
    "for i, class_label in enumerate(y_values):\n",
    "    print(\"Class: \", class_label)\n",
    "    print(\"Precision:\", precision_score(y_test_tree[class_label], y_pred[:, i], average='weighted'))\n",
    "    print(\"F1:\", f1_score(y_test_tree[class_label], y_pred[:, i], average='weighted'))\n",
    "    print(\"Recall:\", recall_score(y_test_tree[class_label], y_pred[:, i], average='weighted'))\n",
    "    print(\"Accuracy:\", accuracy_score(y_test_tree[class_label], y_pred[:, i]))\n",
    "    print()\n"
   ]
  },
  {
   "cell_type": "code",
   "execution_count": 83,
   "metadata": {},
   "outputs": [
    {
     "data": {
      "image/png": "[encoded data removed]",
      "text/plain": [
       "<Figure size 640x480 with 1 Axes>"
      ]
     },
     "metadata": {},
     "output_type": "display_data"
    }
   ],
   "source": [
    "plt.hist(first_assignment_marks[\"date_submitted\"], bins=150)\n",
    "plt.show()"
   ]
  },
  {
   "cell_type": "markdown",
   "metadata": {},
   "source": [
    "# 2. Random forest"
   ]
  },
  {
   "cell_type": "code",
   "execution_count": 84,
   "metadata": {},
   "outputs": [],
   "source": [
    "from sklearn.ensemble import RandomForestClassifier\n",
    "from sklearn.multiclass import OneVsRestClassifier\n"
   ]
  },
  {
   "cell_type": "code",
   "execution_count": 85,
   "metadata": {},
   "outputs": [],
   "source": [
    "X = combined_df[['score', 'highest_education', 'sum_click', 'date_registration', 'age_band', 'gender', 'first_assignment_mark']]\n",
    "y = pd.get_dummies(combined_df['final_result'])\n",
    "X_train_forest, X_test_forest, y_train_forest, y_test_forest = train_test_split(X, y, test_size=0.3, random_state=42)"
   ]
  },
  {
   "cell_type": "code",
   "execution_count": 86,
   "metadata": {},
   "outputs": [
    {
     "data": {
      "text/html": [
       "<div>\n",
       "<style scoped>\n",
       "    .dataframe tbody tr th:only-of-type {\n",
       "        vertical-align: middle;\n",
       "    }\n",
       "\n",
       "    .dataframe tbody tr th {\n",
       "        vertical-align: top;\n",
       "    }\n",
       "\n",
       "    .dataframe thead th {\n",
       "        text-align: right;\n",
       "    }\n",
       "</style>\n",
       "<table border=\"1\" class=\"dataframe\">\n",
       "  <thead>\n",
       "    <tr style=\"text-align: right;\">\n",
       "      <th></th>\n",
       "      <th>score</th>\n",
       "      <th>highest_education</th>\n",
       "      <th>sum_click</th>\n",
       "      <th>date_registration</th>\n",
       "      <th>age_band</th>\n",
       "      <th>gender</th>\n",
       "      <th>first_assignment_mark</th>\n",
       "    </tr>\n",
       "  </thead>\n",
       "  <tbody>\n",
       "    <tr>\n",
       "      <th>15331</th>\n",
       "      <td>47.000000</td>\n",
       "      <td>2.0</td>\n",
       "      <td>44.0</td>\n",
       "      <td>-142.0</td>\n",
       "      <td>1.0</td>\n",
       "      <td>0.0</td>\n",
       "      <td>60.0</td>\n",
       "    </tr>\n",
       "    <tr>\n",
       "      <th>6535</th>\n",
       "      <td>66.250000</td>\n",
       "      <td>2.0</td>\n",
       "      <td>46.0</td>\n",
       "      <td>-37.0</td>\n",
       "      <td>0.0</td>\n",
       "      <td>0.0</td>\n",
       "      <td>100.0</td>\n",
       "    </tr>\n",
       "    <tr>\n",
       "      <th>19402</th>\n",
       "      <td>89.352941</td>\n",
       "      <td>0.0</td>\n",
       "      <td>377.0</td>\n",
       "      <td>-103.0</td>\n",
       "      <td>0.0</td>\n",
       "      <td>1.0</td>\n",
       "      <td>92.0</td>\n",
       "    </tr>\n",
       "    <tr>\n",
       "      <th>24831</th>\n",
       "      <td>84.500000</td>\n",
       "      <td>1.0</td>\n",
       "      <td>69.0</td>\n",
       "      <td>-67.0</td>\n",
       "      <td>1.0</td>\n",
       "      <td>0.0</td>\n",
       "      <td>40.0</td>\n",
       "    </tr>\n",
       "    <tr>\n",
       "      <th>293</th>\n",
       "      <td>56.000000</td>\n",
       "      <td>0.0</td>\n",
       "      <td>17.0</td>\n",
       "      <td>-11.0</td>\n",
       "      <td>2.0</td>\n",
       "      <td>1.0</td>\n",
       "      <td>62.0</td>\n",
       "    </tr>\n",
       "  </tbody>\n",
       "</table>\n",
       "</div>"
      ],
      "text/plain": [
       "           score  highest_education  sum_click  date_registration  age_band  \\\n",
       "15331  47.000000                2.0       44.0             -142.0       1.0   \n",
       "6535   66.250000                2.0       46.0              -37.0       0.0   \n",
       "19402  89.352941                0.0      377.0             -103.0       0.0   \n",
       "24831  84.500000                1.0       69.0              -67.0       1.0   \n",
       "293    56.000000                0.0       17.0              -11.0       2.0   \n",
       "\n",
       "       gender  first_assignment_mark  \n",
       "15331     0.0                   60.0  \n",
       "6535      0.0                  100.0  \n",
       "19402     1.0                   92.0  \n",
       "24831     0.0                   40.0  \n",
       "293       1.0                   62.0  "
      ]
     },
     "execution_count": 86,
     "metadata": {},
     "output_type": "execute_result"
    }
   ],
   "source": [
    "X_train_forest.head()"
   ]
  },
  {
   "cell_type": "code",
   "execution_count": 87,
   "metadata": {},
   "outputs": [
    {
     "name": "stdout",
     "output_type": "stream",
     "text": [
      "Random Forest Results\n",
      "\n",
      "Class:  Withdrawn\n",
      "Precision: 0.67\n",
      "F1: 0.7\n",
      "Recall: 0.72\n",
      "Accuracy: 0.72\n",
      "\n",
      "Class:  Fail\n",
      "Precision: 0.74\n",
      "F1: 0.74\n",
      "Recall: 0.74\n",
      "Accuracy: 0.74\n",
      "\n",
      "Class:  Pass\n",
      "Precision: 0.65\n",
      "F1: 0.65\n",
      "Recall: 0.65\n",
      "Accuracy: 0.65\n",
      "\n",
      "Class:  Distinction\n",
      "Precision: 0.78\n",
      "F1: 0.74\n",
      "Recall: 0.7\n",
      "Accuracy: 0.7\n",
      "\n"
     ]
    }
   ],
   "source": [
    "#Random Forest\n",
    "rf_clf = RandomForestClassifier()\n",
    "\n",
    "rf_clf.fit(X_train_forest, y_train_forest, sample_weight=43)\n",
    "\n",
    "y_pred_rf = rf_clf.predict(X_test_forest)\n",
    "\n",
    "print(\"Random Forest Results\")\n",
    "print()\n",
    "for i, class_label in enumerate(y_values):\n",
    "    print(\"Class: \", class_label)\n",
    "    print(\"Precision:\", precision_score(y_test_forest[class_label], y_pred[:, i], average='weighted', zero_division=0).round(2))\n",
    "    print(\"F1:\", f1_score(y_test_forest[class_label], y_pred[:, i], average='weighted', zero_division=0).round(2))\n",
    "    print(\"Recall:\", recall_score(y_test_forest[class_label], y_pred[:, i], average='weighted', zero_division=0).round(2))\n",
    "    print(\"Accuracy:\", accuracy_score(y_test_forest[class_label], y_pred[:, i]).round(2))\n",
    "    print()"
   ]
  },
  {
   "cell_type": "code",
   "execution_count": 88,
   "metadata": {},
   "outputs": [
    {
     "name": "stdout",
     "output_type": "stream",
     "text": [
      "Random Forest Confusion Matrix: Pass vs. Rest\n",
      "      Rest  Pass\n",
      "Rest  3001  1211\n",
      "Pass  1282  2513\n",
      "\n",
      "Decision Tree Confusion Matrix: Pass vs. Rest\n",
      "      Rest  Pass\n",
      "Rest  2909  1303\n",
      "Pass  1477  2318\n"
     ]
    }
   ],
   "source": [
    "from sklearn.metrics import confusion_matrix\n",
    "import seaborn as sns\n",
    "import matplotlib.pyplot as plt\n",
    "\n",
    "def print_confusion_matrix(y_true, y_pred, class_names):\n",
    "    cm = confusion_matrix(y_true, y_pred)\n",
    "    cm_df = pd.DataFrame(cm, index=class_names, columns=class_names)\n",
    "    print(cm_df)\n",
    "\n",
    "#Confusion matrix for Random Forest pass vs. rest\n",
    "print(\"Random Forest Confusion Matrix: Pass vs. Rest\")\n",
    "print_confusion_matrix(y_test_forest['Pass'], y_pred_rf[:, 2], ['Rest', 'Pass'])\n",
    "\n",
    "print()\n",
    "#Confusion matrix for Decision Tree pass vs. rest\n",
    "print(\"Decision Tree Confusion Matrix: Pass vs. Rest\")\n",
    "print_confusion_matrix(y_test_tree['Pass'], y_pred[:, 2], ['Rest', 'Pass'])\n"
   ]
  },
  {
   "cell_type": "code",
   "execution_count": 89,
   "metadata": {},
   "outputs": [
    {
     "data": {
      "image/png": "[encoded data removed]",
      "text/plain": [
       "<Figure size 640x480 with 1 Axes>"
      ]
     },
     "metadata": {},
     "output_type": "display_data"
    }
   ],
   "source": [
    "#auc curve for random forest distinction vs. rest\n",
    "from sklearn.metrics import roc_curve, auc\n",
    "from sklearn.preprocessing import label_binarize\n",
    "from scipy import interp\n",
    "\n",
    "y_test_forest_distinction = label_binarize(y_test_forest['Distinction'], classes=[0, 1])\n",
    "y_pred_rf_distinction = label_binarize(y_pred_rf[:, 3], classes=[0, 1])\n",
    "\n",
    "y_test_decision_tree_distinction = label_binarize(y_test_tree['Distinction'], classes=[0, 1])\n",
    "y_pred_decision_tree_distinction = label_binarize(y_pred[:, 3], classes=[0, 1])\n",
    "\n",
    "fpr, tpr, _ = roc_curve(y_test_forest_distinction, y_pred_rf_distinction)\n",
    "roc_auc = auc(fpr, tpr)\n",
    "\n",
    "fpr2, tpr2, _ = roc_curve(y_test_decision_tree_distinction, y_pred_decision_tree_distinction)\n",
    "roc_auc2 = auc(fpr2, tpr2)\n",
    "\n",
    "plt.figure()\n",
    "lw = 2\n",
    "plt.plot(fpr, tpr, color='red', label='Random forest (AUC = {})'.format(roc_auc.round(2)))\n",
    "plt.plot(fpr2, tpr2, color='green', label='Decision tree (AUC = {})'.format(roc_auc2.round(2)))\n",
    "plt.plot([0, 1], [0, 1], color='navy', lw=lw, linestyle='--')\n",
    "\n",
    "plt.xlabel('False Positive Rate')\n",
    "plt.ylabel('True Positive Rate')\n",
    "\n",
    "plt.title('ROC Krivulja: Distinction vs. Rest')\n",
    "plt.legend(loc=\"lower right\")\n",
    "plt.show()\n",
    "\n"
   ]
  },
  {
   "cell_type": "code",
   "execution_count": 90,
   "metadata": {},
   "outputs": [
    {
     "data": {
      "image/png": "[encoded data removed]",
      "text/plain": [
       "<Figure size 640x480 with 1 Axes>"
      ]
     },
     "metadata": {},
     "output_type": "display_data"
    }
   ],
   "source": [
    "#plot the relationship between number of clicks, average score and final result\n",
    "import matplotlib.patches as mpatches\n",
    "\n",
    "red_patch = mpatches.Patch(color='red', label='Withdrawn')\n",
    "orange_patch = mpatches.Patch(color='orange', label='Fail')\n",
    "green_patch = mpatches.Patch(color='green', label='Pass')\n",
    "blue_patch = mpatches.Patch(color='blue', label='Distinction')\n",
    "\n",
    "plt.scatter(combined_df['sum_click'], combined_df['score'], c=combined_df['final_result'].map({'Withdrawn': 'red', 'Fail': 'orange', 'Pass': 'green', 'Distinction': 'blue'}))\n",
    "plt.xlabel(\"Number of clicks\")\n",
    "plt.ylabel(\"Average score\")\n",
    "plt.legend(handles=[red_patch, orange_patch, green_patch, blue_patch])\n",
    "plt.show()"
   ]
  },
  {
   "cell_type": "markdown",
   "metadata": {},
   "source": [
    "# 3. BART\n",
    "\n",
    "Test 1 - pyopenbt"
   ]
  },
  {
   "cell_type": "code",
   "execution_count": 91,
   "metadata": {},
   "outputs": [],
   "source": [
    "# from pyopenbt.openbt import OPENBT\n",
    "\n",
    "# # Test Branin function, rescaled\n",
    "# def braninsc (xx):\n",
    "#     x2 = xx[1]\n",
    "#     x1 = xx[0]\n",
    "    \n",
    "#     x1bar = 15 * x1 - 5\n",
    "#     x2bar = 15 * x2\n",
    "    \n",
    "#     import math\n",
    "#     term1 = x2bar - 5.1*x1bar*2/(4*math.pi*2) + 5*x1bar/math.pi - 6\n",
    "#     term2 = (10 - 10/(8*math.pi)) * math.cos(x1bar)\n",
    "    \n",
    "#     y = (term1**2 + term2 - 44.81) / 51.95\n",
    "#     return(y)\n",
    "\n",
    "\n",
    "# # Simulate brain data for testing\n",
    "# np.random.seed(99)\n",
    "# n = 500\n",
    "# p = 2\n",
    "# x = np.random.uniform(size=n*p).reshape(n,p)\n",
    "# y = np.zeros(n)\n",
    "# for i in range(n):\n",
    "#     y[i] = braninsc(x[i,])\n",
    "    \n",
    "# m = OPENBT(model = \"bart\", tc = 4, modelname = \"branin\")\n",
    "# fit = m.fit(x, y)\n",
    "\n",
    "# # Calculate in-sample predictions\n",
    "# fitp = m.predict(x, tc = 4)\n",
    "\n",
    "# # Make a simple plot\n",
    "# fig = plt.figure(figsize=(16,9)); ax = fig.add_subplot(111)\n",
    "# ax.plot(y, fitp['mmean'], 'ro')\n",
    "# ax.set_xlabel(\"Observed\"); ax.set_ylabel(\"Fitted\")\n",
    "# ax.axline([0, 0], [1, 1])"
   ]
  },
  {
   "cell_type": "markdown",
   "metadata": {},
   "source": [
    "Test 2 - BartPy"
   ]
  },
  {
   "cell_type": "code",
   "execution_count": 92,
   "metadata": {},
   "outputs": [],
   "source": [
    "# import sys\n",
    "# # caution: path[0] is reserved for script path (or '' in REPL)\n",
    "# # sys.path.insert(1, 'path/to/your/module')\n",
    "# # sys.path.remove('path/to/your/module')\n",
    "# print(sys.path)\n",
    "\n",
    "# from bartpy.bartpy.sklearnmodel import SklearnModel\n",
    "\n",
    "# model = SklearnModel() # Use default parameters\n",
    "# model.fit(x, y) # Fit the model\n",
    "# predictions = model.predict(x) # Make predictions on the train set\n",
    "# out_of_sample_predictions = model.predict(X_test) # Make predictions on new data\n"
   ]
  },
  {
   "cell_type": "markdown",
   "metadata": {},
   "source": [
    "# 4. Logistička regresija"
   ]
  },
  {
   "cell_type": "code",
   "execution_count": 93,
   "metadata": {},
   "outputs": [
    {
     "data": {
      "text/html": [
       "<div>\n",
       "<style scoped>\n",
       "    .dataframe tbody tr th:only-of-type {\n",
       "        vertical-align: middle;\n",
       "    }\n",
       "\n",
       "    .dataframe tbody tr th {\n",
       "        vertical-align: top;\n",
       "    }\n",
       "\n",
       "    .dataframe thead th {\n",
       "        text-align: right;\n",
       "    }\n",
       "</style>\n",
       "<table border=\"1\" class=\"dataframe\">\n",
       "  <thead>\n",
       "    <tr style=\"text-align: right;\">\n",
       "      <th></th>\n",
       "      <th>code_module</th>\n",
       "      <th>code_presentation</th>\n",
       "      <th>id_student</th>\n",
       "      <th>gender</th>\n",
       "      <th>region</th>\n",
       "      <th>highest_education</th>\n",
       "      <th>imd_band</th>\n",
       "      <th>age_band</th>\n",
       "      <th>num_of_prev_attempts</th>\n",
       "      <th>studied_credits</th>\n",
       "      <th>disability</th>\n",
       "      <th>final_result</th>\n",
       "      <th>score</th>\n",
       "      <th>sum_click</th>\n",
       "      <th>date_registration</th>\n",
       "      <th>registration_date_numeric</th>\n",
       "      <th>first_assignment_mark</th>\n",
       "    </tr>\n",
       "  </thead>\n",
       "  <tbody>\n",
       "    <tr>\n",
       "      <th>0</th>\n",
       "      <td>AAA</td>\n",
       "      <td>2013J</td>\n",
       "      <td>11391</td>\n",
       "      <td>1.0</td>\n",
       "      <td>East Anglian Region</td>\n",
       "      <td>0.0</td>\n",
       "      <td>90-100%</td>\n",
       "      <td>2.0</td>\n",
       "      <td>0</td>\n",
       "      <td>240</td>\n",
       "      <td>0.0</td>\n",
       "      <td>Pass</td>\n",
       "      <td>82.0</td>\n",
       "      <td>98.0</td>\n",
       "      <td>-159.0</td>\n",
       "      <td>-159.0</td>\n",
       "      <td>78.0</td>\n",
       "    </tr>\n",
       "    <tr>\n",
       "      <th>1</th>\n",
       "      <td>AAA</td>\n",
       "      <td>2013J</td>\n",
       "      <td>28400</td>\n",
       "      <td>0.0</td>\n",
       "      <td>Scotland</td>\n",
       "      <td>0.0</td>\n",
       "      <td>20-30%</td>\n",
       "      <td>1.0</td>\n",
       "      <td>0</td>\n",
       "      <td>60</td>\n",
       "      <td>0.0</td>\n",
       "      <td>Pass</td>\n",
       "      <td>66.4</td>\n",
       "      <td>215.0</td>\n",
       "      <td>-53.0</td>\n",
       "      <td>-53.0</td>\n",
       "      <td>70.0</td>\n",
       "    </tr>\n",
       "    <tr>\n",
       "      <th>2</th>\n",
       "      <td>AAA</td>\n",
       "      <td>2013J</td>\n",
       "      <td>31604</td>\n",
       "      <td>0.0</td>\n",
       "      <td>South East Region</td>\n",
       "      <td>2.0</td>\n",
       "      <td>50-60%</td>\n",
       "      <td>1.0</td>\n",
       "      <td>0</td>\n",
       "      <td>60</td>\n",
       "      <td>0.0</td>\n",
       "      <td>Pass</td>\n",
       "      <td>76.0</td>\n",
       "      <td>169.0</td>\n",
       "      <td>-52.0</td>\n",
       "      <td>-52.0</td>\n",
       "      <td>72.0</td>\n",
       "    </tr>\n",
       "    <tr>\n",
       "      <th>3</th>\n",
       "      <td>AAA</td>\n",
       "      <td>2013J</td>\n",
       "      <td>32885</td>\n",
       "      <td>0.0</td>\n",
       "      <td>West Midlands Region</td>\n",
       "      <td>1.0</td>\n",
       "      <td>50-60%</td>\n",
       "      <td>0.0</td>\n",
       "      <td>0</td>\n",
       "      <td>60</td>\n",
       "      <td>0.0</td>\n",
       "      <td>Pass</td>\n",
       "      <td>54.4</td>\n",
       "      <td>295.0</td>\n",
       "      <td>-176.0</td>\n",
       "      <td>-176.0</td>\n",
       "      <td>69.0</td>\n",
       "    </tr>\n",
       "    <tr>\n",
       "      <th>4</th>\n",
       "      <td>AAA</td>\n",
       "      <td>2013J</td>\n",
       "      <td>38053</td>\n",
       "      <td>1.0</td>\n",
       "      <td>Wales</td>\n",
       "      <td>2.0</td>\n",
       "      <td>80-90%</td>\n",
       "      <td>1.0</td>\n",
       "      <td>0</td>\n",
       "      <td>60</td>\n",
       "      <td>0.0</td>\n",
       "      <td>Pass</td>\n",
       "      <td>68.0</td>\n",
       "      <td>277.0</td>\n",
       "      <td>-110.0</td>\n",
       "      <td>-110.0</td>\n",
       "      <td>79.0</td>\n",
       "    </tr>\n",
       "  </tbody>\n",
       "</table>\n",
       "</div>"
      ],
      "text/plain": [
       "  code_module code_presentation  id_student  gender                region  \\\n",
       "0         AAA             2013J       11391     1.0   East Anglian Region   \n",
       "1         AAA             2013J       28400     0.0              Scotland   \n",
       "2         AAA             2013J       31604     0.0     South East Region   \n",
       "3         AAA             2013J       32885     0.0  West Midlands Region   \n",
       "4         AAA             2013J       38053     1.0                 Wales   \n",
       "\n",
       "   highest_education imd_band  age_band  num_of_prev_attempts  \\\n",
       "0                0.0  90-100%       2.0                     0   \n",
       "1                0.0   20-30%       1.0                     0   \n",
       "2                2.0   50-60%       1.0                     0   \n",
       "3                1.0   50-60%       0.0                     0   \n",
       "4                2.0   80-90%       1.0                     0   \n",
       "\n",
       "   studied_credits  disability final_result  score  sum_click  \\\n",
       "0              240         0.0         Pass   82.0       98.0   \n",
       "1               60         0.0         Pass   66.4      215.0   \n",
       "2               60         0.0         Pass   76.0      169.0   \n",
       "3               60         0.0         Pass   54.4      295.0   \n",
       "4               60         0.0         Pass   68.0      277.0   \n",
       "\n",
       "   date_registration  registration_date_numeric  first_assignment_mark  \n",
       "0             -159.0                     -159.0                   78.0  \n",
       "1              -53.0                      -53.0                   70.0  \n",
       "2              -52.0                      -52.0                   72.0  \n",
       "3             -176.0                     -176.0                   69.0  \n",
       "4             -110.0                     -110.0                   79.0  "
      ]
     },
     "execution_count": 93,
     "metadata": {},
     "output_type": "execute_result"
    }
   ],
   "source": [
    "combined_df.head()"
   ]
  },
  {
   "cell_type": "code",
   "execution_count": 94,
   "metadata": {},
   "outputs": [
    {
     "data": {
      "image/png": "[encoded data removed]",
      "text/plain": [
       "<Figure size 1600x500 with 3 Axes>"
      ]
     },
     "metadata": {},
     "output_type": "display_data"
    }
   ],
   "source": [
    "fig, axs = plt.subplots(1, 3, sharey=True)\n",
    "combined_df.plot(kind='scatter', x='sum_click', y='final_result',\n",
    "          ax=axs[0], figsize=(16, 5), grid=True)\n",
    "combined_df.plot(kind='scatter', x='date_registration', y='final_result', ax=axs[1], grid=True)\n",
    "combined_df.plot(kind='scatter', x='first_assignment_mark', y='final_result', ax=axs[2], grid=True)\n",
    "plt.show()"
   ]
  },
  {
   "cell_type": "code",
   "execution_count": 95,
   "metadata": {},
   "outputs": [
    {
     "name": "stdout",
     "output_type": "stream",
     "text": [
      "              precision    recall  f1-score   support\n",
      "\n",
      " Distinction       0.43      0.01      0.02      3018\n",
      "        Fail       0.40      0.04      0.08      6198\n",
      "        Pass       0.49      0.95      0.65     12562\n",
      "   Withdrawn       0.41      0.12      0.19      4912\n",
      "\n",
      "    accuracy                           0.48     26690\n",
      "   macro avg       0.43      0.28      0.23     26690\n",
      "weighted avg       0.45      0.48      0.36     26690\n",
      "\n"
     ]
    }
   ],
   "source": [
    "from sklearn.calibration import cross_val_predict\n",
    "from sklearn.linear_model import LogisticRegression\n",
    "from sklearn.metrics import classification_report\n",
    "\n",
    "\n",
    "feature_cols = ['sum_click', 'date_registration', 'first_assignment_mark']\n",
    "X = pd.get_dummies(combined_df[feature_cols])\n",
    "y = combined_df.final_result\n",
    "\n",
    "logistic = LogisticRegression()\n",
    "y_pred = cross_val_predict(logistic, X,  y, cv=10)\n",
    "\n",
    "print(classification_report(y, y_pred))\n"
   ]
  },
  {
   "cell_type": "code",
   "execution_count": 96,
   "metadata": {},
   "outputs": [
    {
     "name": "stdout",
     "output_type": "stream",
     "text": [
      "             Withdrawn  Fail   Pass  Distinction\n",
      "Withdrawn           34     9   2898           77\n",
      "Fail                 4   260   5575          359\n",
      "Pass                36   109  11975          442\n",
      "Distinction          5   272   4028          607\n"
     ]
    }
   ],
   "source": [
    "print_confusion_matrix(y, y_pred, ['Withdrawn', 'Fail', 'Pass', 'Distinction'])"
   ]
  },
  {
   "cell_type": "markdown",
   "metadata": {},
   "source": [
    "# 5. SVM"
   ]
  },
  {
   "cell_type": "code",
   "execution_count": 97,
   "metadata": {},
   "outputs": [
    {
     "name": "stdout",
     "output_type": "stream",
     "text": [
      "Class:  Withdrawn\n",
      "Precision: 0.51\n",
      "F1: 0.18\n",
      "Recall: 0.11\n",
      "Accuracy: 0.11\n",
      "\n",
      "Class:  Fail\n",
      "Precision: 0.52\n",
      "F1: 0.38\n",
      "Recall: 0.3\n",
      "Accuracy: 0.3\n",
      "\n",
      "Class:  Pass\n",
      "Precision: 0.56\n",
      "F1: 0.69\n",
      "Recall: 0.91\n",
      "Accuracy: 0.91\n",
      "\n",
      "Class:  Distinction\n",
      "Precision: 0.58\n",
      "F1: 0.41\n",
      "Recall: 0.31\n",
      "Accuracy: 0.31\n",
      "\n"
     ]
    }
   ],
   "source": [
    "from sklearn.svm import SVC, LinearSVC\n",
    "from sklearn.preprocessing import PolynomialFeatures\n",
    "from sklearn.preprocessing import StandardScaler\n",
    "\n",
    "X = combined_df[['score', 'highest_education', 'sum_click', 'date_registration', 'age_band', 'gender', 'first_assignment_mark']]\n",
    "\n",
    "y = combined_df['final_result']\n",
    "\n",
    "# replace all of the 4 unique values with number from 0 to 3\n",
    "y = y.map({'Withdrawn': 0, 'Fail': 1, 'Pass': 2, 'Distinction': 3})\n",
    "\n",
    "# split the data into training and testing set\n",
    "X_train_svm, X_test_svm, y_train_svm, y_test_svm = train_test_split(X, y, test_size=0.3, random_state=42)\n",
    "\n",
    "# # create a polynomial features object\n",
    "poly = PolynomialFeatures(degree=2, include_bias=True)\n",
    "# \n",
    "# # fit and transform the training and test data\n",
    "X_train_svm = poly.fit_transform(X_train_svm)\n",
    "X_test_svm = poly.transform(X_test_svm)\n",
    "\n",
    "# scale the data\n",
    "scaler = StandardScaler()\n",
    "X_train_svm_scaled = scaler.fit_transform(X_train_svm)\n",
    "X_test_svm_scaled = scaler.transform(X_test_svm)\n",
    "\n",
    "svc = LinearSVC()\n",
    "# we want to \n",
    "svc.fit(X_train_svm_scaled, y_train_svm)\n",
    "\n",
    "y_pred_svm = np.array(svc.predict(X_test_svm_scaled))\n",
    "y_test_svm = np.array(y_test_svm)\n",
    "\n",
    "y_values = [0, 1, 2, 3]\n",
    "class_name = {0: 'Withdrawn', 1: 'Fail', 2: 'Pass', 3: 'Distinction'}\n",
    "\n",
    "# I want to dispaly the accuracy for each class\n",
    "\n",
    "for i in y_values:\n",
    "    print(\"Class: \", class_name[i])\n",
    "    print(\"Precision:\", precision_score(y_test_svm, y_pred_svm, labels=[i], average='weighted', zero_division=0).round(2))\n",
    "    print(\"F1:\", f1_score(y_test_svm, y_pred_svm, labels=[i], average='weighted', zero_division=0).round(2))\n",
    "    print(\"Recall:\", recall_score(y_test_svm, y_pred_svm, labels=[i], average='weighted', zero_division=0).round(2))\n",
    "    class_accuracy = accuracy_score(y_test_svm[y_test_svm == i], y_pred_svm[y_test_svm == i])\n",
    "    print(\"Accuracy:\", class_accuracy.round(2))\n",
    "    print()"
   ]
  }
 ],
 "metadata": {
  "kernelspec": {
   "display_name": "Python 3",
   "language": "python",
   "name": "python3"
  },
  "language_info": {
   "codemirror_mode": {
    "name": "ipython",
    "version": 3
   },
   "file_extension": ".py",
   "mimetype": "text/x-python",
   "name": "python",
   "nbconvert_exporter": "python",
   "pygments_lexer": "ipython3",
   "version": "3.12.1"
  },
  "orig_nbformat": 4
 },
 "nbformat": 4,
 "nbformat_minor": 2
}
